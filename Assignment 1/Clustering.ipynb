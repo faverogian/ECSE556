{
 "cells": [
  {
   "cell_type": "code",
   "execution_count": 2,
   "metadata": {},
   "outputs": [],
   "source": [
    "'''\n",
    "ECSE 556 Homework 1\n",
    "Clustering\n",
    "Gian Favero\n",
    "October 6th, 2023\n",
    "'''\n",
    "\n",
    "# Common imports\n",
    "import numpy as np\n",
    "import matplotlib.pyplot as plt\n",
    "import time\n",
    "\n",
    "# import data\n",
    "data = np.genfromtxt('Data/gdsc_expr_postCB.csv', delimiter=',')\n",
    "data = data[1:,1:]\n",
    "data = np.transpose(data)"
   ]
  },
  {
   "cell_type": "markdown",
   "metadata": {},
   "source": [
    "# Clustering"
   ]
  },
  {
   "cell_type": "markdown",
   "metadata": {},
   "source": [
    "Agglomerative Clustering"
   ]
  },
  {
   "cell_type": "code",
   "execution_count": 3,
   "metadata": {},
   "outputs": [],
   "source": [
    "from sklearn.cluster import AgglomerativeClustering\n",
    "\n",
    "# Construct the clustering object\n",
    "agglomerative_clustering = AgglomerativeClustering(n_clusters=3)\n",
    "\n",
    "# Fit the data\n",
    "agglomerative_clustering.fit(data)\n",
    "\n",
    "# Get the labels\n",
    "agglo_labels = agglomerative_clustering.labels_"
   ]
  },
  {
   "cell_type": "markdown",
   "metadata": {},
   "source": [
    "K-Means Clustering"
   ]
  },
  {
   "cell_type": "code",
   "execution_count": 12,
   "metadata": {},
   "outputs": [
    {
     "name": "stderr",
     "output_type": "stream",
     "text": [
      "c:\\Users\\gmari\\Documents\\Repos\\ECSE556\\venv\\lib\\site-packages\\sklearn\\cluster\\_kmeans.py:1412: FutureWarning: The default value of `n_init` will change from 10 to 'auto' in 1.4. Set the value of `n_init` explicitly to suppress the warning\n",
      "  super()._check_params_vs_input(X, default_n_init=10)\n"
     ]
    }
   ],
   "source": [
    "from sklearn.cluster import KMeans\n",
    "\n",
    "# Construct the clustering object\n",
    "k_means = KMeans(n_clusters=3)\n",
    "\n",
    "# Fit the data\n",
    "k_means.fit(data)\n",
    "\n",
    "# Get the labels and cluster centers\n",
    "k_cluster_centers = k_means.cluster_centers_\n",
    "k_labels = k_means.labels_"
   ]
  },
  {
   "cell_type": "markdown",
   "metadata": {},
   "source": [
    "Similarities"
   ]
  },
  {
   "cell_type": "code",
   "execution_count": 13,
   "metadata": {},
   "outputs": [
    {
     "name": "stdout",
     "output_type": "stream",
     "text": [
      "+---------------------------------------------------+\n",
      "| Jaccard Score for Each Pair of Clusters (Default) |\n",
      "+------------+------------+------------+------------+\n",
      "|            | Cluster 1  | Cluster 2  | Cluster 3  |\n",
      "+------------+------------+------------+------------+\n",
      "| Cluster 1  |   0.019    |    0.0     |   0.855    |\n",
      "| Cluster 2  |   0.887    |    0.0     |    0.05    |\n",
      "| Cluster 3  |    0.0     |    1.0     |    0.0     |\n",
      "+------------+------------+------------+------------+\n",
      "Rand Score:  0.913\n",
      "Adjusted Rand Score:  0.815\n"
     ]
    }
   ],
   "source": [
    "from sklearn.metrics import jaccard_score\n",
    "from sklearn.metrics import rand_score\n",
    "from sklearn.metrics import adjusted_rand_score\n",
    "import prettytable as pt\n",
    "\n",
    "# Jaccard score for each pair of clusters\n",
    "jaccards = []\n",
    "for i in range(3):\n",
    "    for j in range(3):\n",
    "        jaccards.append(jaccard_score(agglo_labels == i, k_labels == j).round(3))\n",
    "\n",
    "# Make table of jaccard scores\n",
    "default_t = pt.PrettyTable()\n",
    "default_t.field_names = ['', 'Cluster 1', 'Cluster 2', 'Cluster 3']\n",
    "default_t.title = 'Jaccard Score for Each Pair of Clusters (Default)'\n",
    "\n",
    "for i in range(3):\n",
    "    default_t.add_row([f'Cluster {i+1}', jaccards[i], jaccards[i+3], jaccards[i+6]])\n",
    "\n",
    "print(default_t)\n",
    "\n",
    "# Rand score for agglomerative and k-means clustering\n",
    "def_rand = rand_score(agglo_labels, k_labels).round(3)\n",
    "print(\"Rand Score: \", def_rand)\n",
    "\n",
    "# Adjusted rand score for agglomerative and k-means clustering\n",
    "def_adj_rand = adjusted_rand_score(agglo_labels, k_labels).__round__(3)\n",
    "print(\"Adjusted Rand Score: \", def_adj_rand)\n"
   ]
  },
  {
   "cell_type": "markdown",
   "metadata": {},
   "source": [
    "#### Analysis of Agglomerative Clustering"
   ]
  },
  {
   "cell_type": "markdown",
   "metadata": {},
   "source": [
    "Euclidean Affinity for Agglomerative Clustering"
   ]
  },
  {
   "cell_type": "code",
   "execution_count": 14,
   "metadata": {},
   "outputs": [
    {
     "name": "stdout",
     "output_type": "stream",
     "text": [
      "+---------------------------------------------------------------------+\n",
      "| Jaccard Score for Each Pair of Clusters (Agglomerative + Euclidean) |\n",
      "+----------------+----------------+----------------+------------------+\n",
      "|                |   Cluster 1    |   Cluster 2    |    Cluster 3     |\n",
      "+----------------+----------------+----------------+------------------+\n",
      "|   Cluster 1    |     0.342      |      0.0       |      0.018       |\n",
      "|   Cluster 2    |     0.482      |     0.002      |       0.0        |\n",
      "|   Cluster 3    |     0.174      |      0.0       |       0.0        |\n",
      "+----------------+----------------+----------------+------------------+\n",
      "Rand Score:  0.384\n",
      "Adjusted Rand Score:  0.001\n"
     ]
    }
   ],
   "source": [
    "# Eucledian distance\n",
    "euc_agglo = AgglomerativeClustering(n_clusters=3, linkage='average', metric='euclidean')\n",
    "euc_agglo.fit(data)\n",
    "euc_labels = euc_agglo.labels_\n",
    "\n",
    "# Jaccard score for each pair of clusters\n",
    "euc_jaccards = []\n",
    "for i in range(3):\n",
    "    for j in range(3):\n",
    "        euc_jaccards.append(jaccard_score(euc_labels == i, k_labels == j).round(3))\n",
    "\n",
    "# Make table of jaccard scores\n",
    "euc_t = pt.PrettyTable()\n",
    "euc_t.field_names = ['', 'Cluster 1', 'Cluster 2', 'Cluster 3']\n",
    "euc_t.title = 'Jaccard Score for Each Pair of Clusters (Agglomerative + Euclidean)'\n",
    "\n",
    "for i in range(3):\n",
    "    euc_t.add_row([f'Cluster {i+1}', euc_jaccards[i], euc_jaccards[i+3], euc_jaccards[i+6]])\n",
    "\n",
    "print(euc_t)\n",
    "\n",
    "# Rand score\n",
    "euc_rand = rand_score(euc_labels, k_labels).round(3)\n",
    "print(\"Rand Score: \", euc_rand)\n",
    "\n",
    "# Adjusted rand score\n",
    "euc_adj_rand = adjusted_rand_score(euc_labels, k_labels).__round__(3)\n",
    "print(\"Adjusted Rand Score: \", euc_adj_rand)"
   ]
  },
  {
   "cell_type": "markdown",
   "metadata": {},
   "source": [
    "Cosine Affinity for Agglomerative Clustering"
   ]
  },
  {
   "cell_type": "code",
   "execution_count": 15,
   "metadata": {},
   "outputs": [
    {
     "name": "stdout",
     "output_type": "stream",
     "text": [
      "+------------------------------------------------------------------+\n",
      "| Jaccard Score for Each Pair of Clusters (Agglomerative + Cosine) |\n",
      "+---------------+---------------+---------------+------------------+\n",
      "|               |   Cluster 1   |   Cluster 2   |    Cluster 3     |\n",
      "+---------------+---------------+---------------+------------------+\n",
      "|   Cluster 1   |     0.342     |      0.0      |      0.018       |\n",
      "|   Cluster 2   |     0.482     |     0.002     |       0.0        |\n",
      "|   Cluster 3   |     0.174     |      0.0      |       0.0        |\n",
      "+---------------+---------------+---------------+------------------+\n",
      "Rand Score:  0.384\n",
      "Adjusted Rand Score:  0.001\n"
     ]
    }
   ],
   "source": [
    "# Cosine distance\n",
    "cos_agglo = AgglomerativeClustering(n_clusters=3, linkage='average', metric='cosine')\n",
    "cos_agglo.fit(data)\n",
    "cos_labels = cos_agglo.labels_\n",
    "\n",
    "# Jaccard score for each pair of clusters\n",
    "cos_jaccards = []\n",
    "for i in range(3):\n",
    "    for j in range(3):\n",
    "        cos_jaccards.append(jaccard_score(cos_labels == i, k_labels == j).round(3))\n",
    "\n",
    "# Make table of jaccard scores\n",
    "t = pt.PrettyTable()\n",
    "t.field_names = ['', 'Cluster 1', 'Cluster 2', 'Cluster 3']\n",
    "t.title = 'Jaccard Score for Each Pair of Clusters (Agglomerative + Cosine)'\n",
    "\n",
    "for i in range(3):\n",
    "    t.add_row([f'Cluster {i+1}', cos_jaccards[i], cos_jaccards[i+3], cos_jaccards[i+6]])\n",
    "\n",
    "print(t)\n",
    "\n",
    "# Rand score\n",
    "cos_rand = rand_score(cos_labels, k_labels).round(3)\n",
    "print(\"Rand Score: \", cos_rand)\n",
    "\n",
    "# Adjusted rand score\n",
    "cos_adj_rand = adjusted_rand_score(cos_labels, k_labels).__round__(3)\n",
    "print(\"Adjusted Rand Score: \", cos_adj_rand)"
   ]
  },
  {
   "cell_type": "markdown",
   "metadata": {},
   "source": [
    "Similarity between the two Agglomerative distances"
   ]
  },
  {
   "cell_type": "code",
   "execution_count": 16,
   "metadata": {},
   "outputs": [
    {
     "name": "stdout",
     "output_type": "stream",
     "text": [
      "+-----------------------------------------------+\n",
      "|    Jaccard Score for Each Pair of Clusters    |\n",
      "+-----------+-----------+-----------+-----------+\n",
      "|           | Cluster 1 | Cluster 2 | Cluster 3 |\n",
      "+-----------+-----------+-----------+-----------+\n",
      "| Cluster 1 |    1.0    |    0.0    |    0.0    |\n",
      "| Cluster 2 |    0.0    |    1.0    |    0.0    |\n",
      "| Cluster 3 |    0.0    |    0.0    |    1.0    |\n",
      "+-----------+-----------+-----------+-----------+\n",
      "Rand Score:  1.0\n",
      "Adjusted Rand Score:  1.0\n"
     ]
    }
   ],
   "source": [
    "# Jaccard score for each pair of clusters\n",
    "average_jaccards = []\n",
    "for i in range(3):\n",
    "    for j in range(3):\n",
    "        average_jaccards.append(jaccard_score(euc_labels == i, cos_labels == j).round(3))\n",
    "\n",
    "# Make table of jaccard scores\n",
    "t = pt.PrettyTable()\n",
    "t.field_names = ['', 'Cluster 1', 'Cluster 2', 'Cluster 3']\n",
    "t.title = 'Jaccard Score for Each Pair of Clusters'\n",
    "\n",
    "for i in range(3):\n",
    "    t.add_row([f'Cluster {i+1}', average_jaccards[i], average_jaccards[i+3], average_jaccards[i+6]])\n",
    "\n",
    "print(t)\n",
    "\n",
    "# Rand score\n",
    "cos_rand = rand_score(euc_labels, cos_labels).__round__(3)\n",
    "print(\"Rand Score: \", cos_rand)\n",
    "\n",
    "# Adjusted rand score\n",
    "cos_adj_rand = adjusted_rand_score(euc_labels, cos_labels).__round__(3)\n",
    "print(\"Adjusted Rand Score: \", cos_adj_rand)"
   ]
  }
 ],
 "metadata": {
  "kernelspec": {
   "display_name": "venv",
   "language": "python",
   "name": "python3"
  },
  "language_info": {
   "codemirror_mode": {
    "name": "ipython",
    "version": 3
   },
   "file_extension": ".py",
   "mimetype": "text/x-python",
   "name": "python",
   "nbconvert_exporter": "python",
   "pygments_lexer": "ipython3",
   "version": "3.9.13"
  },
  "orig_nbformat": 4
 },
 "nbformat": 4,
 "nbformat_minor": 2
}
