{
 "cells": [
  {
   "cell_type": "code",
   "execution_count": null,
   "metadata": {},
   "outputs": [],
   "source": [
    "'''\n",
    "ECSE 556 Homework 1\n",
    "Clustering\n",
    "Gian Favero\n",
    "October 6th, 2023\n",
    "'''\n",
    "\n",
    "# Common imports\n",
    "import numpy as np\n",
    "\n",
    "# import data\n",
    "data = np.genfromtxt('Data/gdsc_expr_postCB.csv', delimiter=',')\n",
    "data = data[1:,1:]\n",
    "data = np.transpose(data)\n",
    "\n",
    "# Comment out for unscaled data\n",
    "from sklearn.preprocessing import StandardScaler\n",
    "scaler = StandardScaler()\n",
    "scaler.fit(data)\n",
    "data = scaler.transform(data)"
   ]
  },
  {
   "cell_type": "markdown",
   "metadata": {},
   "source": [
    "# Clustering"
   ]
  },
  {
   "cell_type": "markdown",
   "metadata": {},
   "source": [
    "Agglomerative Clustering"
   ]
  },
  {
   "cell_type": "code",
   "execution_count": null,
   "metadata": {},
   "outputs": [],
   "source": [
    "from sklearn.cluster import AgglomerativeClustering\n",
    "\n",
    "# Construct the clustering object\n",
    "agglomerative_clustering = AgglomerativeClustering(n_clusters=3)\n",
    "\n",
    "# Fit the data\n",
    "agglomerative_clustering.fit(data)\n",
    "\n",
    "# Get the labels\n",
    "agglo_labels = agglomerative_clustering.labels_"
   ]
  },
  {
   "cell_type": "markdown",
   "metadata": {},
   "source": [
    "K-Means Clustering"
   ]
  },
  {
   "cell_type": "code",
   "execution_count": null,
   "metadata": {},
   "outputs": [],
   "source": [
    "from sklearn.cluster import KMeans\n",
    "import warnings\n",
    "warnings.filterwarnings(\"ignore\")\n",
    "\n",
    "# Construct the clustering object\n",
    "k_means = KMeans(n_clusters=3)\n",
    "\n",
    "# Fit the data\n",
    "k_means.fit(data)\n",
    "\n",
    "# Get the labels and cluster centers\n",
    "k_cluster_centers = k_means.cluster_centers_\n",
    "k_labels = k_means.labels_"
   ]
  },
  {
   "cell_type": "markdown",
   "metadata": {},
   "source": [
    "Similarities"
   ]
  },
  {
   "cell_type": "code",
   "execution_count": null,
   "metadata": {},
   "outputs": [],
   "source": [
    "from sklearn.metrics import jaccard_score\n",
    "from sklearn.metrics import rand_score\n",
    "from sklearn.metrics import adjusted_rand_score\n",
    "import prettytable as pt\n",
    "\n",
    "# Jaccard score for each pair of clusters\n",
    "jaccards = []\n",
    "for i in range(3):\n",
    "    for j in range(3):\n",
    "        jaccards.append(jaccard_score(agglo_labels == i, k_labels == j).round(3))\n",
    "\n",
    "# Make table of jaccard scores\n",
    "default_t = pt.PrettyTable()\n",
    "default_t.field_names = ['', 'Cluster 1', 'Cluster 2', 'Cluster 3']\n",
    "default_t.title = 'Jaccard Score for Each Pair of Clusters (Default)'\n",
    "\n",
    "for i in range(3):\n",
    "    default_t.add_row([f'Cluster {i+1}', jaccards[i], jaccards[i+3], jaccards[i+6]])\n",
    "\n",
    "print(default_t)\n",
    "\n",
    "# Make table comparing number of samples in each cluster for both clustering methods\n",
    "default_prop_t = pt.PrettyTable()\n",
    "default_prop_t.field_names = ['Cluster', 'Agglomerative', 'K-Means']\n",
    "default_prop_t.title = 'Number of Samples in Each Cluster (Default)'\n",
    "default_prop_t.add_row(['Cluster 1', np.count_nonzero(agglo_labels == 0), np.count_nonzero(k_labels == 0)])\n",
    "default_prop_t.add_row(['Cluster 2', np.count_nonzero(agglo_labels == 1), np.count_nonzero(k_labels == 1)])\n",
    "default_prop_t.add_row(['Cluster 3', np.count_nonzero(agglo_labels == 2), np.count_nonzero(k_labels == 2)])\n",
    "\n",
    "print(default_prop_t)\n",
    "\n",
    "# Rand score for agglomerative and k-means clustering\n",
    "def_rand = rand_score(agglo_labels, k_labels).round(3)\n",
    "print(\"Rand Score: \", def_rand)\n",
    "\n",
    "# Adjusted rand score for agglomerative and k-means clustering\n",
    "def_adj_rand = adjusted_rand_score(agglo_labels, k_labels).__round__(3)\n",
    "print(\"Adjusted Rand Score: \", def_adj_rand)\n",
    "\n",
    "# Visualize results \n",
    "import matplotlib.pyplot as plt\n",
    "from sklearn.decomposition import PCA\n",
    "\n",
    "# PCA to reduce data to 2 dimensions\n",
    "pca = PCA(n_components=2)\n",
    "pca.fit(data)\n",
    "data_pca = pca.transform(data)\n",
    "\n",
    "# Plot agglomerative clustering results\n",
    "plt.figure(figsize=(10, 4))\n",
    "plt.subplot(121)\n",
    "plt.scatter(data_pca[:,0], data_pca[:,1], c=agglo_labels, cmap='viridis')\n",
    "plt.title('Agglomerative Clustering')\n",
    "plt.xlabel('PC1')\n",
    "plt.ylabel('PC2')\n",
    "\n",
    "# Plot k-means clustering results\n",
    "plt.subplot(122)\n",
    "plt.scatter(data_pca[:,0], data_pca[:,1], c=k_labels, cmap='viridis')\n",
    "plt.title('K-Means Clustering')\n",
    "plt.xlabel('PC1')\n",
    "plt.ylabel('PC2')\n",
    "plt.show()\n"
   ]
  },
  {
   "cell_type": "markdown",
   "metadata": {},
   "source": [
    "#### Analysis of Agglomerative Clustering"
   ]
  },
  {
   "cell_type": "markdown",
   "metadata": {},
   "source": [
    "Similarity between the two Agglomerative distances"
   ]
  },
  {
   "cell_type": "code",
   "execution_count": null,
   "metadata": {},
   "outputs": [],
   "source": [
    "# Eucledian distance\n",
    "euc_agglo = AgglomerativeClustering(n_clusters=3, linkage='average', metric='euclidean')\n",
    "euc_agglo.fit(data)\n",
    "euc_labels = euc_agglo.labels_\n",
    "\n",
    "# Cosine distance\n",
    "cos_agglo = AgglomerativeClustering(n_clusters=3, linkage='average', metric='cosine')\n",
    "cos_agglo.fit(data)\n",
    "cos_labels = cos_agglo.labels_\n",
    "\n",
    "# Jaccard score for each pair of clusters\n",
    "average_jaccards = []\n",
    "for i in range(3):\n",
    "    for j in range(3):\n",
    "        average_jaccards.append(jaccard_score(euc_labels == i, cos_labels == j).round(3))\n",
    "\n",
    "# Make table of jaccard scores\n",
    "t = pt.PrettyTable()\n",
    "t.field_names = ['', 'Cluster 1', 'Cluster 2', 'Cluster 3']\n",
    "t.title = 'Jaccard Score for Each Pair of Clusters'\n",
    "\n",
    "for i in range(3):\n",
    "    t.add_row([f'Cluster {i+1}', average_jaccards[i], average_jaccards[i+3], average_jaccards[i+6]])\n",
    "\n",
    "print(t)\n",
    "\n",
    "# Make table comparing number of samples in each cluster for both clustering methods\n",
    "comp_prop_t = pt.PrettyTable()\n",
    "comp_prop_t.field_names = ['Cluster', 'Euclidean', 'Cosine']\n",
    "comp_prop_t.title = 'Number of Samples in Each Cluster (Default)'\n",
    "comp_prop_t.add_row(['Cluster 1', np.count_nonzero(euc_labels == 0), np.count_nonzero(cos_labels == 0)])\n",
    "comp_prop_t.add_row(['Cluster 2', np.count_nonzero(euc_labels == 1), np.count_nonzero(cos_labels == 1)])\n",
    "comp_prop_t.add_row(['Cluster 3', np.count_nonzero(euc_labels == 2), np.count_nonzero(cos_labels == 2)])\n",
    "\n",
    "print(comp_prop_t)\n",
    "\n",
    "# Rand score\n",
    "euc_cos_rand = rand_score(euc_labels, cos_labels).__round__(3)\n",
    "print(\"Rand Score: \", euc_cos_rand)\n",
    "\n",
    "# Adjusted rand score\n",
    "euc_cos_adj_rand = adjusted_rand_score(euc_labels, cos_labels).__round__(3)\n",
    "print(\"Adjusted Rand Score: \", euc_cos_adj_rand)\n",
    "\n",
    "# Visualize results \n",
    "import matplotlib.pyplot as plt\n",
    "from sklearn.decomposition import PCA\n",
    "\n",
    "# PCA to reduce data to 2 dimensions\n",
    "pca = PCA(n_components=2)\n",
    "pca.fit(data)\n",
    "data_pca = pca.transform(data)\n",
    "\n",
    "# Plot agglomerative clustering results with euclidean distance and cosine distance\n",
    "plt.figure(figsize=(10, 4))\n",
    "plt.subplot(121)\n",
    "plt.scatter(data_pca[:,0], data_pca[:,1], c=euc_labels, cmap='viridis')\n",
    "plt.title('Agglomerative Clustering (Euclidean)')\n",
    "plt.xlabel('PC1')\n",
    "plt.ylabel('PC2')\n",
    "\n",
    "plt.subplot(122)\n",
    "plt.scatter(data_pca[:,0], data_pca[:,1], c=cos_labels, cmap='viridis')\n",
    "plt.title('Agglomerative Clustering (Cosine)')\n",
    "plt.xlabel('PC1')\n",
    "plt.ylabel('PC2')\n",
    "\n",
    "plt.show()"
   ]
  }
 ],
 "metadata": {
  "kernelspec": {
   "display_name": "venv",
   "language": "python",
   "name": "python3"
  },
  "language_info": {
   "codemirror_mode": {
    "name": "ipython",
    "version": 3
   },
   "file_extension": ".py",
   "mimetype": "text/x-python",
   "name": "python",
   "nbconvert_exporter": "python",
   "pygments_lexer": "ipython3",
   "version": "3.9.13"
  },
  "orig_nbformat": 4
 },
 "nbformat": 4,
 "nbformat_minor": 2
}
