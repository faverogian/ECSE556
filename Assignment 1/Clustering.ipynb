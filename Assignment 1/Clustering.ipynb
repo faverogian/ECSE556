{
 "cells": [
  {
   "cell_type": "code",
   "execution_count": 85,
   "metadata": {},
   "outputs": [],
   "source": [
    "'''\n",
    "ECSE 556 Homework 1\n",
    "Clustering\n",
    "Gian Favero\n",
    "October 6th, 2023\n",
    "'''\n",
    "\n",
    "# Common imports\n",
    "import numpy as np\n",
    "\n",
    "# import data\n",
    "data = np.genfromtxt('Data/gdsc_expr_postCB.csv', delimiter=',')\n",
    "data = data[1:,1:]\n",
    "data = np.transpose(data)"
   ]
  },
  {
   "cell_type": "markdown",
   "metadata": {},
   "source": [
    "# Clustering"
   ]
  },
  {
   "cell_type": "markdown",
   "metadata": {},
   "source": [
    "Agglomerative Clustering"
   ]
  },
  {
   "cell_type": "code",
   "execution_count": 86,
   "metadata": {},
   "outputs": [],
   "source": [
    "from sklearn.cluster import AgglomerativeClustering\n",
    "\n",
    "# Construct the clustering object\n",
    "agglomerative_clustering = AgglomerativeClustering(n_clusters=3)\n",
    "\n",
    "# Fit the data\n",
    "agglomerative_clustering.fit(data)\n",
    "\n",
    "# Get the labels\n",
    "agglo_labels = agglomerative_clustering.labels_"
   ]
  },
  {
   "cell_type": "markdown",
   "metadata": {},
   "source": [
    "K-Means Clustering"
   ]
  },
  {
   "cell_type": "code",
   "execution_count": 87,
   "metadata": {},
   "outputs": [],
   "source": [
    "from sklearn.cluster import KMeans\n",
    "import warnings\n",
    "warnings.filterwarnings(\"ignore\")\n",
    "\n",
    "# Construct the clustering object\n",
    "k_means = KMeans(n_clusters=3)\n",
    "\n",
    "# Fit the data\n",
    "k_means.fit(data)\n",
    "\n",
    "# Get the labels and cluster centers\n",
    "k_cluster_centers = k_means.cluster_centers_\n",
    "k_labels = k_means.labels_"
   ]
  },
  {
   "cell_type": "markdown",
   "metadata": {},
   "source": [
    "Similarities"
   ]
  },
  {
   "cell_type": "code",
   "execution_count": 88,
   "metadata": {},
   "outputs": [
    {
     "name": "stdout",
     "output_type": "stream",
     "text": [
      "+---------------------------------------------------+\n",
      "| Jaccard Score for Each Pair of Clusters (Default) |\n",
      "+------------+------------+------------+------------+\n",
      "|            | Cluster 1  | Cluster 2  | Cluster 3  |\n",
      "+------------+------------+------------+------------+\n",
      "| Cluster 1  |   0.892    |    0.0     |   0.044    |\n",
      "| Cluster 2  |   0.022    |    0.0     |   0.864    |\n",
      "| Cluster 3  |    0.0     |    1.0     |    0.0     |\n",
      "+------------+------------+------------+------------+\n",
      "Rand Score:  0.918\n",
      "Adjusted Rand Score:  0.825\n"
     ]
    }
   ],
   "source": [
    "from sklearn.metrics import jaccard_score\n",
    "from sklearn.metrics import rand_score\n",
    "from sklearn.metrics import adjusted_rand_score\n",
    "import prettytable as pt\n",
    "\n",
    "# Jaccard score for each pair of clusters\n",
    "jaccards = []\n",
    "for i in range(3):\n",
    "    for j in range(3):\n",
    "        jaccards.append(jaccard_score(agglo_labels == i, k_labels == j).round(3))\n",
    "\n",
    "# Make table of jaccard scores\n",
    "default_t = pt.PrettyTable()\n",
    "default_t.field_names = ['', 'Cluster 1', 'Cluster 2', 'Cluster 3']\n",
    "default_t.title = 'Jaccard Score for Each Pair of Clusters (Default)'\n",
    "\n",
    "for i in range(3):\n",
    "    default_t.add_row([f'Cluster {i+1}', jaccards[i], jaccards[i+3], jaccards[i+6]])\n",
    "\n",
    "print(default_t)\n",
    "\n",
    "# Rand score for agglomerative and k-means clustering\n",
    "def_rand = rand_score(agglo_labels, k_labels).round(3)\n",
    "print(\"Rand Score: \", def_rand)\n",
    "\n",
    "# Adjusted rand score for agglomerative and k-means clustering\n",
    "def_adj_rand = adjusted_rand_score(agglo_labels, k_labels).__round__(3)\n",
    "print(\"Adjusted Rand Score: \", def_adj_rand)"
   ]
  },
  {
   "cell_type": "markdown",
   "metadata": {},
   "source": [
    "#### Analysis of Agglomerative Clustering"
   ]
  },
  {
   "cell_type": "markdown",
   "metadata": {},
   "source": [
    "Euclidean Affinity for Agglomerative Clustering"
   ]
  },
  {
   "cell_type": "code",
   "execution_count": 89,
   "metadata": {},
   "outputs": [
    {
     "name": "stdout",
     "output_type": "stream",
     "text": [
      "+---------------------------------------------------------------------+\n",
      "| Jaccard Score for Each Pair of Clusters (Agglomerative + Euclidean) |\n",
      "+----------------+----------------+----------------+------------------+\n",
      "|                |   Cluster 1    |   Cluster 2    |    Cluster 3     |\n",
      "+----------------+----------------+----------------+------------------+\n",
      "|   Cluster 1    |     0.475      |     0.002      |       0.0        |\n",
      "|   Cluster 2    |     0.349      |      0.0       |      0.017       |\n",
      "|   Cluster 3    |     0.174      |      0.0       |       0.0        |\n",
      "+----------------+----------------+----------------+------------------+\n",
      "Rand Score:  0.382\n",
      "Adjusted Rand Score:  0.0\n"
     ]
    }
   ],
   "source": [
    "# Eucledian distance\n",
    "euc_agglo = AgglomerativeClustering(n_clusters=3, linkage='average', metric='euclidean')\n",
    "euc_agglo.fit(data)\n",
    "euc_labels = euc_agglo.labels_\n",
    "\n",
    "# Jaccard score for each pair of clusters\n",
    "euc_jaccards = []\n",
    "for i in range(3):\n",
    "    for j in range(3):\n",
    "        euc_jaccards.append(jaccard_score(euc_labels == i, k_labels == j).round(3))\n",
    "\n",
    "# Make table of jaccard scores\n",
    "euc_t = pt.PrettyTable()\n",
    "euc_t.field_names = ['', 'Cluster 1', 'Cluster 2', 'Cluster 3']\n",
    "euc_t.title = 'Jaccard Score for Each Pair of Clusters (Agglomerative + Euclidean)'\n",
    "\n",
    "for i in range(3):\n",
    "    euc_t.add_row([f'Cluster {i+1}', euc_jaccards[i], euc_jaccards[i+3], euc_jaccards[i+6]])\n",
    "\n",
    "print(euc_t)\n",
    "\n",
    "# Rand score\n",
    "euc_rand = rand_score(euc_labels, k_labels).round(3)\n",
    "print(\"Rand Score: \", euc_rand)\n",
    "\n",
    "# Adjusted rand score\n",
    "euc_adj_rand = adjusted_rand_score(euc_labels, k_labels).__round__(3)\n",
    "print(\"Adjusted Rand Score: \", euc_adj_rand)"
   ]
  },
  {
   "cell_type": "markdown",
   "metadata": {},
   "source": [
    "Cosine Affinity for Agglomerative Clustering"
   ]
  },
  {
   "cell_type": "code",
   "execution_count": 90,
   "metadata": {},
   "outputs": [
    {
     "name": "stdout",
     "output_type": "stream",
     "text": [
      "+------------------------------------------------------------------+\n",
      "| Jaccard Score for Each Pair of Clusters (Agglomerative + Cosine) |\n",
      "+---------------+---------------+---------------+------------------+\n",
      "|               |   Cluster 1   |   Cluster 2   |    Cluster 3     |\n",
      "+---------------+---------------+---------------+------------------+\n",
      "|   Cluster 1   |     0.475     |     0.002     |       0.0        |\n",
      "|   Cluster 2   |     0.349     |      0.0      |      0.017       |\n",
      "|   Cluster 3   |     0.174     |      0.0      |       0.0        |\n",
      "+---------------+---------------+---------------+------------------+\n",
      "Rand Score:  0.382\n",
      "Adjusted Rand Score:  0.0\n"
     ]
    }
   ],
   "source": [
    "# Cosine distance\n",
    "cos_agglo = AgglomerativeClustering(n_clusters=3, linkage='average', metric='cosine')\n",
    "cos_agglo.fit(data)\n",
    "cos_labels = cos_agglo.labels_\n",
    "\n",
    "# Jaccard score for each pair of clusters\n",
    "cos_jaccards = []\n",
    "for i in range(3):\n",
    "    for j in range(3):\n",
    "        cos_jaccards.append(jaccard_score(cos_labels == i, k_labels == j).round(3))\n",
    "\n",
    "# Make table of jaccard scores\n",
    "t = pt.PrettyTable()\n",
    "t.field_names = ['', 'Cluster 1', 'Cluster 2', 'Cluster 3']\n",
    "t.title = 'Jaccard Score for Each Pair of Clusters (Agglomerative + Cosine)'\n",
    "\n",
    "for i in range(3):\n",
    "    t.add_row([f'Cluster {i+1}', cos_jaccards[i], cos_jaccards[i+3], cos_jaccards[i+6]])\n",
    "\n",
    "print(t)\n",
    "\n",
    "# Rand score\n",
    "cos_rand = rand_score(cos_labels, k_labels).round(3)\n",
    "print(\"Rand Score: \", cos_rand)\n",
    "\n",
    "# Adjusted rand score\n",
    "cos_adj_rand = adjusted_rand_score(cos_labels, k_labels).__round__(3)\n",
    "print(\"Adjusted Rand Score: \", cos_adj_rand)"
   ]
  },
  {
   "cell_type": "markdown",
   "metadata": {},
   "source": [
    "Similarity between the two Agglomerative distances"
   ]
  },
  {
   "cell_type": "code",
   "execution_count": 91,
   "metadata": {},
   "outputs": [
    {
     "name": "stdout",
     "output_type": "stream",
     "text": [
      "+-----------------------------------------------+\n",
      "|    Jaccard Score for Each Pair of Clusters    |\n",
      "+-----------+-----------+-----------+-----------+\n",
      "|           | Cluster 1 | Cluster 2 | Cluster 3 |\n",
      "+-----------+-----------+-----------+-----------+\n",
      "| Cluster 1 |    1.0    |    0.0    |    0.0    |\n",
      "| Cluster 2 |    0.0    |    1.0    |    0.0    |\n",
      "| Cluster 3 |    0.0    |    0.0    |    1.0    |\n",
      "+-----------+-----------+-----------+-----------+\n",
      "Rand Score:  1.0\n",
      "Adjusted Rand Score:  1.0\n"
     ]
    }
   ],
   "source": [
    "# Jaccard score for each pair of clusters\n",
    "average_jaccards = []\n",
    "for i in range(3):\n",
    "    for j in range(3):\n",
    "        average_jaccards.append(jaccard_score(euc_labels == i, cos_labels == j).round(3))\n",
    "\n",
    "# Make table of jaccard scores\n",
    "t = pt.PrettyTable()\n",
    "t.field_names = ['', 'Cluster 1', 'Cluster 2', 'Cluster 3']\n",
    "t.title = 'Jaccard Score for Each Pair of Clusters'\n",
    "\n",
    "for i in range(3):\n",
    "    t.add_row([f'Cluster {i+1}', average_jaccards[i], average_jaccards[i+3], average_jaccards[i+6]])\n",
    "\n",
    "print(t)\n",
    "\n",
    "# Rand score\n",
    "cos_rand = rand_score(euc_labels, cos_labels).__round__(3)\n",
    "print(\"Rand Score: \", cos_rand)\n",
    "\n",
    "# Adjusted rand score\n",
    "cos_adj_rand = adjusted_rand_score(euc_labels, cos_labels).__round__(3)\n",
    "print(\"Adjusted Rand Score: \", cos_adj_rand)"
   ]
  },
  {
   "cell_type": "markdown",
   "metadata": {},
   "source": [
    "Similarity using Subset of Data"
   ]
  },
  {
   "cell_type": "code",
   "execution_count": 92,
   "metadata": {},
   "outputs": [],
   "source": [
    "# Randomly selected features\n",
    "import random\n",
    "\n",
    "def random_subset(n, feat_sample, data=data):\n",
    "    # Randomly select n samples\n",
    "    random.seed(1)\n",
    "\n",
    "    if feat_sample == 1:\n",
    "        random_index = random.sample(range(0, data.shape[1]), n)\n",
    "        random_index_data = data[:, random_index]\n",
    "    elif feat_sample == 0:\n",
    "        random_index = random.sample(range(0, data.shape[0]), n)\n",
    "        random_index_data = data[random_index, :]\n",
    "\n",
    "    # Agglomerative clustering with euclidean distance\n",
    "    random_index_euc = AgglomerativeClustering(n_clusters=3, linkage='average', metric='euclidean')\n",
    "    random_index_euc.fit(random_index_data)\n",
    "    random_index_euc_labels = random_index_euc.labels_\n",
    "\n",
    "    # Agglomerative clustering with cosine distance\n",
    "    random_index_cos = AgglomerativeClustering(n_clusters=3, linkage='average', metric='cosine')\n",
    "    random_index_cos.fit(random_index_data)\n",
    "    random_index_cos_labels = random_index_cos.labels_\n",
    "\n",
    "    return random_index_euc_labels, random_index_cos_labels"
   ]
  },
  {
   "cell_type": "code",
   "execution_count": 93,
   "metadata": {},
   "outputs": [
    {
     "name": "stdout",
     "output_type": "stream",
     "text": [
      "+--------------------------------------------------------------+\n",
      "| Rand and Adjusted Rand Scores for Randomly Selected Features |\n",
      "+----------------------+-------------+-------------------------+\n",
      "|  Number of Features  |  Rand Score |   Adjusted Rand Score   |\n",
      "+----------------------+-------------+-------------------------+\n",
      "|          25          |    0.996    |          0.831          |\n",
      "|         100          |    0.996    |          0.855          |\n",
      "|         200          |    0.998    |          0.922          |\n",
      "|         300          |     1.0     |           1.0           |\n",
      "+----------------------+-------------+-------------------------+\n"
     ]
    }
   ],
   "source": [
    "# Random features\n",
    "\n",
    "# Conduct comparison for different values of n \n",
    "n_vals = [25, 100, 200, 300]\n",
    "feature_rand_scores = []\n",
    "feature_adj_rand_scores = []\n",
    "\n",
    "for n in n_vals:\n",
    "    # Randomly select m features\n",
    "    random_feat_euc_labels, random_feat_cos_labels = random_subset(n, 1)\n",
    "    feature_rand_scores.append(rand_score(random_feat_euc_labels, random_feat_cos_labels).__round__(3))\n",
    "    feature_adj_rand_scores.append(adjusted_rand_score(random_feat_euc_labels, random_feat_cos_labels).__round__(3))\n",
    "\n",
    "# Make table of Rand and Adjusted Rand scores\n",
    "feat_t = pt.PrettyTable()\n",
    "feat_t.field_names = ['Number of Features', 'Rand Score', 'Adjusted Rand Score']\n",
    "feat_t.title = 'Rand and Adjusted Rand Scores for Randomly Selected Features'\n",
    "for i in range(len(n_vals)):\n",
    "    feat_t.add_row([n_vals[i], feature_rand_scores[i], feature_adj_rand_scores[i]])\n",
    "print(feat_t)\n"
   ]
  },
  {
   "cell_type": "code",
   "execution_count": 94,
   "metadata": {},
   "outputs": [
    {
     "name": "stdout",
     "output_type": "stream",
     "text": [
      "+-------------------------------------------------------------+\n",
      "| Rand and Adjusted Rand Scores for Randomly Selected Samples |\n",
      "+---------------------+-------------+-------------------------+\n",
      "|  Number of samples  |  Rand Score |   Adjusted Rand Score   |\n",
      "+---------------------+-------------+-------------------------+\n",
      "|          25         |     1.0     |           1.0           |\n",
      "|         100         |     1.0     |           1.0           |\n",
      "|         200         |     1.0     |           1.0           |\n",
      "|         300         |     1.0     |           1.0           |\n",
      "+---------------------+-------------+-------------------------+\n"
     ]
    }
   ],
   "source": [
    "# Random samples\n",
    "\n",
    "# Conduct comparison for different values of n \n",
    "n_vals = [25, 100, 200, 300]\n",
    "sample_rand_scores = []\n",
    "sample_adj_rand_scores = []\n",
    "\n",
    "for n in n_vals:\n",
    "    # Randomly select n samples\n",
    "    random_sample_euc_labels, random_sample_cos_labels = random_subset(n, 0)\n",
    "    sample_rand_scores.append(rand_score(random_sample_euc_labels, random_sample_cos_labels).__round__(3))\n",
    "    sample_adj_rand_scores.append(adjusted_rand_score(random_sample_euc_labels, random_sample_cos_labels).__round__(3))\n",
    "\n",
    "# Make table of Rand and Adjusted Rand scores\n",
    "sample_t = pt.PrettyTable()\n",
    "sample_t.field_names = ['Number of samples', 'Rand Score', 'Adjusted Rand Score']\n",
    "sample_t.title = 'Rand and Adjusted Rand Scores for Randomly Selected Samples'\n",
    "for i in range(len(n_vals)):\n",
    "    sample_t.add_row([n_vals[i], sample_rand_scores[i], sample_adj_rand_scores[i]])\n",
    "print(sample_t)"
   ]
  }
 ],
 "metadata": {
  "kernelspec": {
   "display_name": "venv",
   "language": "python",
   "name": "python3"
  },
  "language_info": {
   "codemirror_mode": {
    "name": "ipython",
    "version": 3
   },
   "file_extension": ".py",
   "mimetype": "text/x-python",
   "name": "python",
   "nbconvert_exporter": "python",
   "pygments_lexer": "ipython3",
   "version": "3.9.13"
  },
  "orig_nbformat": 4
 },
 "nbformat": 4,
 "nbformat_minor": 2
}
