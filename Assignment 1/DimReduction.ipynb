{
 "cells": [
  {
   "cell_type": "code",
   "execution_count": null,
   "metadata": {},
   "outputs": [],
   "source": [
    "'''\n",
    "ECSE 556 Homework 1\n",
    "Dimensionality Reduction\n",
    "Gian Favero\n",
    "October 6th, 2023\n",
    "'''\n",
    "\n",
    "# Common imports\n",
    "import numpy as np\n",
    "import matplotlib.pyplot as plt\n",
    "import time\n",
    "\n",
    "# import data\n",
    "data = np.genfromtxt('Data/gdsc_expr_postCB.csv', delimiter=',')\n",
    "data = data[1:,1:]\n",
    "data = np.transpose(data)\n",
    "\n",
    "# Scale data (comment out for no scaling)\n",
    "from sklearn.preprocessing import StandardScaler\n",
    "scaler = StandardScaler()\n",
    "data = scaler.fit_transform(data)"
   ]
  },
  {
   "cell_type": "markdown",
   "metadata": {},
   "source": [
    "# Dimensionality Reduction"
   ]
  },
  {
   "cell_type": "markdown",
   "metadata": {},
   "source": [
    "Principal Component Analysis (PCA)"
   ]
  },
  {
   "cell_type": "code",
   "execution_count": null,
   "metadata": {},
   "outputs": [],
   "source": [
    "from sklearn.decomposition import PCA\n",
    "\n",
    "# Create PCA object\n",
    "pca = PCA(n_components=2)\n",
    "\n",
    "# Fit and tranform data\n",
    "pca_start = time.time()\n",
    "data_pca = pca.fit_transform(data)\n",
    "pca_end = time.time()"
   ]
  },
  {
   "cell_type": "markdown",
   "metadata": {},
   "source": [
    "UMAP"
   ]
  },
  {
   "cell_type": "code",
   "execution_count": null,
   "metadata": {},
   "outputs": [],
   "source": [
    "import umap\n",
    "\n",
    "# Create UMAP object\n",
    "u_map = umap.UMAP(n_components=2)\n",
    "\n",
    "# UMAP reduction of data\n",
    "umap_start = time.time()\n",
    "data_umap = u_map.fit_transform(data)\n",
    "umap_end = time.time()"
   ]
  },
  {
   "cell_type": "markdown",
   "metadata": {},
   "source": [
    "t-SNE"
   ]
  },
  {
   "cell_type": "code",
   "execution_count": null,
   "metadata": {},
   "outputs": [],
   "source": [
    "from sklearn.manifold import TSNE\n",
    "\n",
    "# Generate TSNE object\n",
    "tsne = TSNE(n_components=2)\n",
    "\n",
    "# Fit and transform data\n",
    "tsne_start = time.time()\n",
    "data_tsne = tsne.fit_transform(data)\n",
    "tsne_end = time.time()"
   ]
  },
  {
   "cell_type": "markdown",
   "metadata": {},
   "source": [
    "Comparison (Default Params)"
   ]
  },
  {
   "cell_type": "code",
   "execution_count": null,
   "metadata": {},
   "outputs": [],
   "source": [
    "# Plotting\n",
    "plt.figure(figsize=(20,20))\n",
    "plt.subplot(331)\n",
    "plt.scatter(data_pca[:,0], data_pca[:,1], s=1)\n",
    "plt.xlabel('PC1')\n",
    "plt.ylabel('PC2')\n",
    "plt.title('PCA Reduction')\n",
    "\n",
    "plt.subplot(332)\n",
    "plt.scatter(data_umap[:,0], data_umap[:,1], s=1)\n",
    "plt.xlabel('UMAP1')\n",
    "plt.ylabel('UMAP2')\n",
    "plt.title('UMAP Reduction')\n",
    "\n",
    "plt.subplot(333)\n",
    "plt.scatter(data_tsne[:,0], data_tsne[:,1], s=1)\n",
    "plt.xlabel('t-SNE1')\n",
    "plt.ylabel('t-SNE2')\n",
    "plt.title('t-SNE Reduction')\n",
    "plt.show()\n",
    "\n",
    "# Run time comparison\n",
    "import prettytable as pt\n",
    "\n",
    "t = pt.PrettyTable(['Method', 'Run Time (s)'])\n",
    "t.add_row(['PCA', pca_end - pca_start])\n",
    "t.add_row(['UMAP', umap_end - umap_start])\n",
    "t.add_row(['TSNE', tsne_end - tsne_start])\n",
    "t.title = 'Run Time Comparison'\n",
    "print(t)"
   ]
  },
  {
   "cell_type": "markdown",
   "metadata": {},
   "source": [
    "UMAP Analysis"
   ]
  },
  {
   "cell_type": "code",
   "execution_count": null,
   "metadata": {},
   "outputs": [],
   "source": [
    "# Changing number of neighbours\n",
    "neighbours = [5, 20, 150]\n",
    "umaps = []\n",
    "for n in neighbours:\n",
    "    u_map = umap.UMAP(n_components=2, n_neighbors=n)\n",
    "    umaps.append(u_map.fit_transform(data))\n",
    "\n",
    "# Changing min distance\n",
    "min_dist = [0.1, 0.5, 0.9]\n",
    "for m in min_dist:\n",
    "    u_map = umap.UMAP(n_components=2, min_dist=m)\n",
    "    umaps.append(u_map.fit_transform(data))"
   ]
  },
  {
   "cell_type": "code",
   "execution_count": null,
   "metadata": {},
   "outputs": [],
   "source": [
    "# Plotting UMAPs\n",
    "plt.figure(figsize=(20,20))\n",
    "for i in range(3):\n",
    "    plt.subplot(331+i)\n",
    "    plt.xlim(-10, 20)\n",
    "    plt.ylim(-10, 25)\n",
    "    plt.scatter(umaps[i][:,0], umaps[i][:,1], s=1)\n",
    "    plt.xlabel('UMAP1')\n",
    "    plt.ylabel('UMAP2')\n",
    "    plt.title(f'UMAP Reduction with {neighbours[i]} Neighbours')\n",
    "plt.show()\n",
    "\n",
    "plt.figure(figsize=(20,20))\n",
    "for i in [3, 4, 5]:\n",
    "    plt.subplot(331+i)\n",
    "    plt.xlim(-10, 20)\n",
    "    plt.ylim(-10, 25)\n",
    "    plt.scatter(umaps[i][:,0], umaps[i][:,1], s=1)\n",
    "    plt.xlabel('UMAP1')\n",
    "    plt.ylabel('UMAP2')\n",
    "    plt.title(f'UMAP Reduction with {min_dist[i % 3]} Min Distance')\n",
    "plt.show()"
   ]
  },
  {
   "cell_type": "markdown",
   "metadata": {},
   "source": [
    "t-SNE Analysis"
   ]
  },
  {
   "cell_type": "code",
   "execution_count": null,
   "metadata": {},
   "outputs": [],
   "source": [
    "# Changing perplexity\n",
    "perplexities = [5, 50, 150]\n",
    "tsnes = []\n",
    "for p in perplexities:\n",
    "    tsne = TSNE(n_components=2, perplexity=p)\n",
    "    tsnes.append(tsne.fit_transform(data))"
   ]
  },
  {
   "cell_type": "code",
   "execution_count": null,
   "metadata": {},
   "outputs": [],
   "source": [
    "# Plotting TSNEs\n",
    "plt.figure(figsize=(20,20))\n",
    "for i in range(3):\n",
    "    plt.subplot(331+i)\n",
    "    plt.xlim(-80, 80)\n",
    "    plt.ylim(-80, 65)\n",
    "    plt.scatter(tsnes[i][:,0], tsnes[i][:,1], s=1)\n",
    "    plt.xlabel('t-SNE1')\n",
    "    plt.ylabel('t-SNE2')\n",
    "    plt.title('t-SNE Reduction with {} Perplexity'.format(perplexities[i]))\n",
    "plt.show()"
   ]
  }
 ],
 "metadata": {
  "kernelspec": {
   "display_name": "Python 3 (ipykernel)",
   "language": "python",
   "name": "python3"
  },
  "language_info": {
   "codemirror_mode": {
    "name": "ipython",
    "version": 3
   },
   "file_extension": ".py",
   "mimetype": "text/x-python",
   "name": "python",
   "nbconvert_exporter": "python",
   "pygments_lexer": "ipython3",
   "version": "3.9.13"
  }
 },
 "nbformat": 4,
 "nbformat_minor": 4
}
