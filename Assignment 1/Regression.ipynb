{
 "cells": [
  {
   "cell_type": "code",
   "execution_count": 38,
   "metadata": {},
   "outputs": [],
   "source": [
    "'''\n",
    "ECSE 556 Homework 1\n",
    "Regression\n",
    "Gian Favero\n",
    "October 6th, 2023\n",
    "'''\n",
    "\n",
    "# Common imports\n",
    "import numpy as np\n",
    "from sklearn.preprocessing import StandardScaler\n",
    "\n",
    "# Import feature and response data\n",
    "feature = np.genfromtxt('Data/gdsc_expr_postCB.csv', delimiter=',')\n",
    "\n",
    "response = np.genfromtxt('Data/gdsc_dr.csv', delimiter=',')\n",
    "response = response[7,:] # Select the response vector for the 7th drug, Doxurubicin\n",
    "\n",
    "# Remove all columns that have NaN values in the response vector\n",
    "feature = feature[:,~np.isnan(response)]\n",
    "response = response[~np.isnan(response)]\n",
    "\n",
    "# Transpose the feature matrix and response vector\n",
    "feature = feature[1:, :].T # Remove the first row (gene names) and transpose\n",
    "response = response.T\n",
    "\n",
    "# Scale the feature matrix\n",
    "scaler = StandardScaler()\n",
    "feature = scaler.fit_transform(feature)"
   ]
  },
  {
   "cell_type": "markdown",
   "metadata": {},
   "source": [
    "# Regression"
   ]
  },
  {
   "cell_type": "markdown",
   "metadata": {},
   "source": [
    "Regularization Analysis"
   ]
  },
  {
   "cell_type": "code",
   "execution_count": 39,
   "metadata": {},
   "outputs": [],
   "source": [
    "from sklearn.linear_model import Lasso\n",
    "\n",
    "# Define range of alpha values to test\n",
    "alpha = [0.01, 0.1, 0.3, 0.5, 0.9]\n",
    "num_features = []\n",
    "\n",
    "# Perform Lasso regression for each alpha value\n",
    "for val in alpha:\n",
    "    lasso = Lasso(alpha=val)\n",
    "    lasso.fit(feature, response)\n",
    "    weights = lasso.coef_\n",
    "    num_features.append(len(weights[weights != 0]))"
   ]
  },
  {
   "cell_type": "code",
   "execution_count": 40,
   "metadata": {},
   "outputs": [
    {
     "data": {
      "image/png": "[encoded data removed]",
      "text/plain": [
       "<Figure size 640x480 with 1 Axes>"
      ]
     },
     "metadata": {},
     "output_type": "display_data"
    },
    {
     "name": "stdout",
     "output_type": "stream",
     "text": [
      "+------------------------------+\n",
      "| Number of Features vs. Alpha |\n",
      "+-------+----------------------+\n",
      "| Alpha |  Number of Features  |\n",
      "+-------+----------------------+\n",
      "|  0.01 |         760          |\n",
      "|  0.1  |         131          |\n",
      "|  0.3  |          7           |\n",
      "|  0.5  |          0           |\n",
      "|  0.9  |          0           |\n",
      "+-------+----------------------+\n"
     ]
    }
   ],
   "source": [
    "# Plot the number of features vs. alpha\n",
    "import matplotlib.pyplot as plt\n",
    "plt.scatter(alpha, num_features)\n",
    "plt.plot(alpha, num_features)\n",
    "plt.xlabel('Alpha')\n",
    "plt.xticks(alpha)\n",
    "plt.ylabel('Number of Features')\n",
    "plt.title('Number of Features vs. Alpha')\n",
    "plt.show()\n",
    "\n",
    "# Make accompanying table\n",
    "import prettytable as pt\n",
    "table = pt.PrettyTable(['Alpha', 'Number of Features'])\n",
    "for i in range(len(alpha)):\n",
    "    table.add_row([alpha[i], num_features[i]])\n",
    "table.title = 'Number of Features vs. Alpha'\n",
    "print(table)"
   ]
  },
  {
   "cell_type": "markdown",
   "metadata": {},
   "source": [
    "Nested Cross Validation"
   ]
  },
  {
   "cell_type": "code",
   "execution_count": 56,
   "metadata": {},
   "outputs": [
    {
     "name": "stdout",
     "output_type": "stream",
     "text": [
      "+-------------------------------------------------------------+\n",
      "|        Model Performance Across Each Outer Loop Fold        |\n",
      "+-------+--------------------+----------------------+---------+\n",
      "| Alpha | Mean Squared Error | Spearman Correlation | p-value |\n",
      "+-------+--------------------+----------------------+---------+\n",
      "|  0.1  |       2.308        |        0.323         | 1.1e-06 |\n",
      "|  0.1  |       2.258        |        0.341         |  2e-07  |\n",
      "|  0.1  |        2.93        |        0.317         | 1.8e-06 |\n",
      "|  0.1  |       2.306        |        0.344         |  2e-07  |\n",
      "+-------+--------------------+----------------------+---------+\n",
      "+-------------------------------------------+\n",
      "|         Average Model Performance         |\n",
      "+--------------------+----------------------+\n",
      "| Mean Squared Error | Spearman Correlation |\n",
      "+--------------------+----------------------+\n",
      "|       2.451        |        0.331         |\n",
      "+--------------------+----------------------+\n"
     ]
    }
   ],
   "source": [
    "from sklearn.linear_model import Lasso\n",
    "from sklearn.model_selection import KFold\n",
    "from sklearn.model_selection import GridSearchCV\n",
    "from sklearn.metrics import mean_squared_error, make_scorer\n",
    "from scipy.stats import spearmanr\n",
    "\n",
    "# Define inner and outer loop cross validation folds\n",
    "inner_loop = KFold(n_splits=3)\n",
    "outer_loop = KFold(n_splits=4)\n",
    "\n",
    "# Define range of alpha values to test\n",
    "param_grid = {'alpha': [0.01, 0.1, 0.3, 0.5, 0.9]}\n",
    "\n",
    "# Initialize lists to store the performance metrics\n",
    "MSEs = []\n",
    "spearman_correlation = []\n",
    "p_values = []\n",
    "alpha = []\n",
    "results = []\n",
    "\n",
    "for train_idx, test_idx in outer_loop.split(feature):\n",
    "    # Split the outer loop fold into training and testing sets\n",
    "    x_train = feature[train_idx]\n",
    "    x_test = feature[test_idx]\n",
    "    y_train = response[train_idx]\n",
    "    y_test = response[test_idx]\n",
    "\n",
    "    # Perform the inner loop cross validation using a grid search\n",
    "    hyper_tuning = GridSearchCV(estimator=Lasso(), param_grid=param_grid, cv=inner_loop)\n",
    "\n",
    "    # Fit the tuned model on the training set\n",
    "    hyper_tuning.fit(x_train, y_train) \n",
    "    hyper, optimal_model, cv_result = hyper_tuning.best_params_, hyper_tuning.best_estimator_, hyper_tuning.cv_results_\n",
    "\n",
    "    # Evaluate the optimal model on the outer loop test set\n",
    "    response_pred = optimal_model.predict(x_test)\n",
    "    mse = np.mean((response_pred - y_test)**2)\n",
    "    spearman, p = spearmanr(response_pred, y_test)\n",
    "\n",
    "    # Store the performance metrics\n",
    "    alpha.append(hyper['alpha'])\n",
    "    results.append(cv_result)\n",
    "    MSEs.append(mse)\n",
    "    spearman_correlation.append(spearman)\n",
    "    p_values.append(p)\n",
    "\n",
    "# Make accompanying tables\n",
    "import prettytable as pt\n",
    "\n",
    "Fold_table = pt.PrettyTable(['Alpha', 'Mean Squared Error', 'Spearman Correlation', 'p-value'])\n",
    "\n",
    "for i in range(len(MSEs)):\n",
    "    Fold_table.add_row([alpha[i], MSEs[i].round(3), spearman_correlation[i].round(3), p_values[i].round(7)])\n",
    "\n",
    "Fold_table.title = 'Model Performance Across Each Outer Loop Fold'\n",
    "\n",
    "print(Fold_table)\n",
    "\n",
    "Average_table = pt.PrettyTable(['Mean Squared Error', 'Spearman Correlation'])\n",
    "Average_table.add_row([np.mean(MSEs).round(3), np.mean(spearman_correlation).round(3)])\n",
    "Average_table.title = 'Average Model Performance'\n",
    "\n",
    "print(Average_table)"
   ]
  },
  {
   "cell_type": "markdown",
   "metadata": {},
   "source": [
    "Baseline Models"
   ]
  },
  {
   "cell_type": "code",
   "execution_count": 65,
   "metadata": {},
   "outputs": [
    {
     "name": "stdout",
     "output_type": "stream",
     "text": [
      "+--------------------------------------------------------------+\n",
      "|                 Baseline Model Performances                  |\n",
      "+--------+--------------------+----------------------+---------+\n",
      "| Model  | Mean Squared Error | Spearman Correlation | p-value |\n",
      "+--------+--------------------+----------------------+---------+\n",
      "|  Mean  |       2.777        |         nan          |   nan   |\n",
      "| Median |       2.797        |         nan          |   nan   |\n",
      "+--------+--------------------+----------------------+---------+\n"
     ]
    }
   ],
   "source": [
    "import warnings\n",
    "\n",
    "# Ignore warnings\n",
    "warnings.filterwarnings('ignore')\n",
    "\n",
    "# Mean of response vector\n",
    "mean = np.mean(response)\n",
    "baseline_mean = np.full((len(response), 1), mean)\n",
    "\n",
    "# Median of response vector\n",
    "median = np.median(response)\n",
    "baseline_median = np.full((len(response), 1), median)\n",
    "\n",
    "# Find MSE for each baseline model\n",
    "MSE_mean = mean_squared_error(response, baseline_mean)\n",
    "MSE_median = mean_squared_error(response, baseline_median)\n",
    "\n",
    "# Find Spearman correlation for each baseline model\n",
    "spearman_mean, p_mean = spearmanr(response, baseline_mean)\n",
    "spearman_median, p_median = spearmanr(response, baseline_median)\n",
    "\n",
    "# Make accompanying table\n",
    "import prettytable as pt\n",
    "\n",
    "baseline_table = pt.PrettyTable(['Model', 'Mean Squared Error', 'Spearman Correlation', 'p-value'])\n",
    "baseline_table.add_row(['Mean', MSE_mean.__round__(3), spearman_mean.__round__(3), p_mean.__round__(7)])\n",
    "baseline_table.add_row(['Median', MSE_median.__round__(3), spearman_median.__round__(3), p_median.__round__(7)])\n",
    "baseline_table.title = 'Baseline Model Performances'\n",
    "print(baseline_table)"
   ]
  }
 ],
 "metadata": {
  "kernelspec": {
   "display_name": "venv",
   "language": "python",
   "name": "python3"
  },
  "language_info": {
   "codemirror_mode": {
    "name": "ipython",
    "version": 3
   },
   "file_extension": ".py",
   "mimetype": "text/x-python",
   "name": "python",
   "nbconvert_exporter": "python",
   "pygments_lexer": "ipython3",
   "version": "3.9.13"
  },
  "orig_nbformat": 4
 },
 "nbformat": 4,
 "nbformat_minor": 2
}
