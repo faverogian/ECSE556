{
 "cells": [
  {
   "cell_type": "markdown",
   "metadata": {},
   "source": [
    "**Investigating Random Walks**\n",
    "\n",
    "Gian Favero | ECSE 556 | December 1st, 2023"
   ]
  },
  {
   "cell_type": "code",
   "execution_count": 8,
   "metadata": {},
   "outputs": [],
   "source": [
    "import pandas as pd\n",
    "import numpy as np\n",
    "from tqdm import tqdm\n",
    "from helpers import *"
   ]
  },
  {
   "cell_type": "markdown",
   "metadata": {},
   "source": [
    "First we load the .edge file associated with the “HumanNet Co-Expression of Human Genes (hn_HS_CX) network. The file will be cleaned up in such a way that only the relevant columns and values are kept."
   ]
  },
  {
   "cell_type": "code",
   "execution_count": 9,
   "metadata": {},
   "outputs": [],
   "source": [
    "edges_df = pd.read_csv('9606.hn_HS_CX.edge', sep='\\t', header=None)\n",
    "edges_df = edges_df.iloc[:, :3]\n",
    "edges_df.columns = ['Node 1', 'Node 2', 'Weight']"
   ]
  },
  {
   "cell_type": "markdown",
   "metadata": {},
   "source": [
    "Now we have to start forming the adjacency matrix that represents the network. We can get a set of every node in the network and then augment the dataset to ensure the network is undirected."
   ]
  },
  {
   "cell_type": "code",
   "execution_count": 10,
   "metadata": {},
   "outputs": [
    {
     "name": "stderr",
     "output_type": "stream",
     "text": [
      "100%|██████████| 154387/154387 [00:08<00:00, 18763.26it/s]\n"
     ]
    }
   ],
   "source": [
    "# Get set of all nodes\n",
    "nodes = set(edges_df['Node 1'])\n",
    "nodes = nodes.union(set(edges_df['Node 2']))\n",
    "\n",
    "# Convert nodes to indices in edges_df\n",
    "nodes_dict = dict(zip(nodes, range(len(nodes))))\n",
    "edges_df['Node 1'] = edges_df['Node 1'].map(nodes_dict)\n",
    "edges_df['Node 2'] = edges_df['Node 2'].map(nodes_dict)\n",
    "\n",
    "# Initialize adjacency matrix\n",
    "adj_mat = np.zeros((len(nodes), len(nodes)))\n",
    "\n",
    "# Fill adjacency matrix\n",
    "for i in tqdm(range(len(edges_df))):\n",
    "    row = edges_df.iloc[i]\n",
    "    adj_mat[int(row['Node 1']), int(row['Node 2'])] = row['Weight']\n",
    "\n",
    "# If there are any self-loops, remove them\n",
    "np.fill_diagonal(adj_mat, 0)"
   ]
  },
  {
   "cell_type": "code",
   "execution_count": 11,
   "metadata": {},
   "outputs": [],
   "source": [
    "# Adjust adjacency matrix to be symmetric, undirected\n",
    "adj_mat = process_symmetric_entries(adj_mat)\n",
    "\n",
    "# Find all subgraphs and get list of nodes that belong to subgraphs with less than 5 nodes\n",
    "subgraphs = find_subgraphs(adj_mat)\n",
    "nodes_to_remove = nodes_to_remove(subgraphs, 5)\n",
    "\n",
    "# Remove nodes from adjacency matrix\n",
    "adj_mat = np.delete(adj_mat, nodes_to_remove, axis=0)\n",
    "adj_mat = np.delete(adj_mat, nodes_to_remove, axis=1)\n",
    "\n",
    "# Normalize adjacency matrix by row\n",
    "adj_mat = adj_mat / adj_mat.sum(axis=1, keepdims=True)"
   ]
  },
  {
   "cell_type": "markdown",
   "metadata": {},
   "source": [
    "**No Restart**\n",
    "\n",
    "Now, we initialize three random initial distribution vectors with only one non-zero entry. We run RW until convergence and output the final distributions to see if RW without restart preserves local information about the nodes."
   ]
  },
  {
   "cell_type": "code",
   "execution_count": 12,
   "metadata": {},
   "outputs": [
    {
     "name": "stdout",
     "output_type": "stream",
     "text": [
      "Starting from random node 1 and random node 2: True\n",
      "Starting from random node 1 and random node 3: True\n",
      "Starting from random node 2 and random node 3: True\n"
     ]
    }
   ],
   "source": [
    "# First random walk vector has only one entry of 1, rest are 0\n",
    "rw_vec = np.zeros((adj_mat.shape[0], 1))\n",
    "rw_vec1 = rw_vec.copy()\n",
    "rw_vec1[0] = 1\n",
    "rw_vec2 = rw_vec.copy()\n",
    "rw_vec2[1500] = 1\n",
    "rw_vec3 = rw_vec.copy()\n",
    "rw_vec3[5000] = 1\n",
    "\n",
    "# Perform random walk until there is small change in vector\n",
    "eps = 1e-5\n",
    "while True:\n",
    "    rw_vec_new = adj_mat @ rw_vec1\n",
    "    if np.linalg.norm(rw_vec_new - rw_vec1) < eps:\n",
    "        break\n",
    "    rw_vec1 = rw_vec_new\n",
    "while True:\n",
    "    rw_vec_new = adj_mat @ rw_vec2\n",
    "    if np.linalg.norm(rw_vec_new - rw_vec2) < eps:\n",
    "        break\n",
    "    rw_vec2 = rw_vec_new\n",
    "while True:\n",
    "    rw_vec_new = adj_mat @ rw_vec3\n",
    "    if np.linalg.norm(rw_vec_new - rw_vec3) < eps:\n",
    "        break\n",
    "    rw_vec3 = rw_vec_new\n",
    "\n",
    "# See if the vectors are equal\n",
    "print('Starting from random node 1 and random node 2:', np.allclose(rw_vec1, rw_vec2, atol=1e-2, rtol=1e-2))\n",
    "print('Starting from random node 1 and random node 3:', np.allclose(rw_vec1, rw_vec3, atol=1e-2, rtol=1e-2))\n",
    "print('Starting from random node 2 and random node 3:', np.allclose(rw_vec2, rw_vec3, atol=1e-2, rtol=1e-2))\n"
   ]
  },
  {
   "cell_type": "markdown",
   "metadata": {},
   "source": [
    "**With Restart**"
   ]
  },
  {
   "cell_type": "code",
   "execution_count": 13,
   "metadata": {},
   "outputs": [
    {
     "name": "stdout",
     "output_type": "stream",
     "text": [
      "  Node 1 Node 2  Weight\n",
      "0      A      B     1.0\n",
      "1      B      C     2.0\n",
      "2      C      D     3.0\n",
      "3      D      A     4.0\n",
      "4      B      A     5.0\n",
      "   Node 1  Node 2  Weight\n",
      "0       1       2     1.0\n",
      "1       2       3     2.0\n",
      "2       3       0     3.0\n",
      "3       0       1     4.0\n",
      "4       2       1     5.0\n",
      "[[0. 0. 0. 0.]\n",
      " [0. 0. 0. 0.]\n",
      " [0. 0. 0. 0.]\n",
      " [0. 0. 0. 0.]]\n",
      "[[0. 4. 0. 0.]\n",
      " [0. 0. 1. 0.]\n",
      " [0. 5. 0. 2.]\n",
      " [3. 0. 0. 0.]]\n",
      "[[0. 4. 0. 3.]\n",
      " [4. 0. 3. 0.]\n",
      " [0. 3. 0. 2.]\n",
      " [3. 0. 2. 0.]]\n",
      "[[0.         0.57142857 0.         0.42857143]\n",
      " [0.57142857 0.         0.42857143 0.        ]\n",
      " [0.         0.6        0.         0.4       ]\n",
      " [0.6        0.         0.4        0.        ]]\n"
     ]
    }
   ],
   "source": [
    "''' Test code for adj matrix processing '''\n",
    "\n",
    "# Define nodes and weights\n",
    "node1 = ['A', 'B', 'C', 'D', 'B']\n",
    "node2 = ['B', 'C', 'D', 'A', 'A']\n",
    "weights = [1.0, 2.0, 3.0, 4.0, 5.0]\n",
    "\n",
    "# Create dictionary\n",
    "data = {'Node 1': node1, 'Node 2': node2, 'Weight': weights}\n",
    "\n",
    "# Convert to DataFrame\n",
    "test_df = pd.DataFrame(data)\n",
    "\n",
    "print(test_df.head())\n",
    "\n",
    "# Get set of all nodes\n",
    "nodes = set(test_df['Node 1'])\n",
    "nodes = nodes.union(set(test_df['Node 2']))\n",
    "\n",
    "# Convert nodes to indices in edges_df\n",
    "nodes_dict = dict(zip(nodes, range(len(nodes))))\n",
    "test_df['Node 1'] = test_df['Node 1'].map(nodes_dict)\n",
    "test_df['Node 2'] = test_df['Node 2'].map(nodes_dict)\n",
    "\n",
    "print(test_df.head())\n",
    "\n",
    "# Initialize adjacency matrix\n",
    "test_adj = np.zeros((len(nodes), len(nodes)))\n",
    "\n",
    "print(test_adj)\n",
    "\n",
    "# Fill adjacency matrix\n",
    "for i in range(len(test_df)):\n",
    "    row = test_df.iloc[i]\n",
    "    test_adj[int(row['Node 1']), int(row['Node 2'])] = row['Weight']\n",
    "\n",
    "print(test_adj)\n",
    "\n",
    "test_adj = process_symmetric_entries(test_adj)\n",
    "\n",
    "print(test_adj)\n",
    "\n",
    "# normalize adjacency matrix by row\n",
    "test_adj = test_adj / test_adj.sum(axis=1, keepdims=True)\n",
    "\n",
    "print(test_adj)"
   ]
  }
 ],
 "metadata": {
  "kernelspec": {
   "display_name": "venv",
   "language": "python",
   "name": "python3"
  },
  "language_info": {
   "codemirror_mode": {
    "name": "ipython",
    "version": 3
   },
   "file_extension": ".py",
   "mimetype": "text/x-python",
   "name": "python",
   "nbconvert_exporter": "python",
   "pygments_lexer": "ipython3",
   "version": "3.9.13"
  }
 },
 "nbformat": 4,
 "nbformat_minor": 2
}
