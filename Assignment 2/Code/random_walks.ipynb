{
 "cells": [
  {
   "cell_type": "markdown",
   "metadata": {},
   "source": [
    "**Investigating Graph Node Embeddings**\n",
    "\n",
    "Gian Favero | ECSE 556 | December 1st, 2023"
   ]
  },
  {
   "cell_type": "code",
   "execution_count": 20,
   "metadata": {},
   "outputs": [],
   "source": [
    "import pandas as pd\n",
    "import numpy as np\n",
    "from tqdm import tqdm\n",
    "from scipy.stats import pearsonr, spearmanr\n",
    "from helpers import *"
   ]
  },
  {
   "cell_type": "markdown",
   "metadata": {},
   "source": [
    "First we load the .edge file associated with the “HumanNet Co-Expression of Human Genes (hn_HS_CX) network. The file will be cleaned up in such a way that only the relevant columns and values are kept."
   ]
  },
  {
   "cell_type": "code",
   "execution_count": 21,
   "metadata": {},
   "outputs": [
    {
     "name": "stdout",
     "output_type": "stream",
     "text": [
      "            Node 1           Node 2    Weight\n",
      "0  ENSG00000284589  ENSG00000276821  0.000008\n",
      "1  ENSG00000284589  ENSG00000267534  0.000006\n",
      "2  ENSG00000284589  ENSG00000178802  0.000006\n",
      "3  ENSG00000284589  ENSG00000172772  0.000007\n",
      "4  ENSG00000284589  ENSG00000167751  0.000008\n"
     ]
    }
   ],
   "source": [
    "edges_df = pd.read_csv('9606.hn_HS_CX.edge', sep='\\t', header=None)\n",
    "edges_df = edges_df.iloc[:, :3]\n",
    "edges_df.columns = ['Node 1', 'Node 2', 'Weight']\n",
    "print(edges_df.head())"
   ]
  },
  {
   "cell_type": "markdown",
   "metadata": {},
   "source": [
    "Now we have to start forming the adjacency matrix that represents the network. We can get a set of every node in the network and then augment the dataset to ensure the network is undirected."
   ]
  },
  {
   "cell_type": "code",
   "execution_count": 22,
   "metadata": {},
   "outputs": [
    {
     "name": "stderr",
     "output_type": "stream",
     "text": [
      "  3%|▎         | 5006/154387 [00:00<00:09, 16510.26it/s]"
     ]
    },
    {
     "name": "stderr",
     "output_type": "stream",
     "text": [
      "100%|██████████| 154387/154387 [00:09<00:00, 16712.16it/s]\n"
     ]
    }
   ],
   "source": [
    "# Get set of all nodes\n",
    "nodes = set(edges_df['Node 1'])\n",
    "nodes = nodes.union(set(edges_df['Node 2']))\n",
    "\n",
    "# Convert nodes to indices in edges_df\n",
    "nodes_dict = dict(zip(nodes, range(len(nodes))))\n",
    "edge_id_df = edges_df.copy()\n",
    "edge_id_df['Node 1'] = edge_id_df['Node 1'].map(nodes_dict)\n",
    "edge_id_df['Node 2'] = edge_id_df['Node 2'].map(nodes_dict)\n",
    "\n",
    "# Initialize adjacency matrix\n",
    "adj_mat = np.zeros((len(nodes), len(nodes)))\n",
    "\n",
    "# Fill adjacency matrix\n",
    "for i in tqdm(range(len(edge_id_df))):\n",
    "    row = edge_id_df.iloc[i]\n",
    "    adj_mat[int(row['Node 1']), int(row['Node 2'])] = row['Weight']\n",
    "\n",
    "# If there are any self-loops, remove them\n",
    "np.fill_diagonal(adj_mat, 0)"
   ]
  },
  {
   "cell_type": "code",
   "execution_count": 23,
   "metadata": {},
   "outputs": [],
   "source": [
    "# Adjust adjacency matrix to be symmetric, undirected\n",
    "adj_mat = process_symmetric_entries(adj_mat)\n",
    "\n",
    "# Find all subgraphs and get list of nodes that belong to subgraphs with less than 5 nodes\n",
    "subgraphs = find_subgraphs(adj_mat)\n",
    "nodes_remove = nodes_to_remove(subgraphs, 5)\n",
    "\n",
    "# Remove nodes from adjacency matrix\n",
    "adj_mat = np.delete(adj_mat, nodes_remove, axis=0)\n",
    "adj_mat = np.delete(adj_mat, nodes_remove, axis=1)\n",
    "\n",
    "# Remove nodes from nodes list\n",
    "nodes = list(nodes)\n",
    "nodes = [nodes[i] for i in range(len(nodes)) if i not in nodes_remove]\n",
    "nodes_dict = dict(zip(nodes, range(len(nodes))))\n",
    "\n",
    "# Remove nodes from edges_df\n",
    "edges_df = edges_df[~edges_df['Node 1'].isin(nodes_remove)]\n",
    "edges_df = edges_df[~edges_df['Node 2'].isin(nodes_remove)]\n",
    "\n",
    "edges_df['Node 1'] = edges_df['Node 1'].map(nodes_dict)\n",
    "edges_df['Node 2'] = edges_df['Node 2'].map(nodes_dict)\n",
    "\n",
    "# Normalize adjacency matrix by row\n",
    "tr_mat = adj_mat / adj_mat.sum(axis=1, keepdims=True)"
   ]
  },
  {
   "cell_type": "markdown",
   "metadata": {},
   "source": [
    "**RW No Restart**\n",
    "\n",
    "Now, we initialize three random initial distribution vectors with only one non-zero entry. We run RW until convergence and output the final distributions to see if RW without restart preserves local information about the nodes."
   ]
  },
  {
   "cell_type": "code",
   "execution_count": 24,
   "metadata": {},
   "outputs": [
    {
     "name": "stderr",
     "output_type": "stream",
     "text": [
      "100%|██████████| 3/3 [00:05<00:00,  1.74s/it]"
     ]
    },
    {
     "name": "stdout",
     "output_type": "stream",
     "text": [
      "Are the vectors close? True\n",
      "Cosine similarity between vectors: [1.0, 1.0, 1.0]\n",
      "Pearson correlation between vectors: [1.0, 1.0, 1.0]\n",
      "Spearman correlation between vectors: [0.9999999999999999, 0.9999999999999999, 0.9999999999999999]\n"
     ]
    },
    {
     "name": "stderr",
     "output_type": "stream",
     "text": [
      "\n"
     ]
    }
   ],
   "source": [
    "# First random walk vector has only one entry of 1, rest are 0\n",
    "rw_vec = np.zeros((tr_mat.shape[0], 1))\n",
    "rw_vec1 = rw_vec\n",
    "rw_vec1[0] = 1\n",
    "\n",
    "rw_vec2 = rw_vec\n",
    "rw_vec2[1500] = 1\n",
    "\n",
    "rw_vec3 = rw_vec\n",
    "rw_vec3[5000] = 1\n",
    "\n",
    "vecs = [rw_vec1, rw_vec2, rw_vec3]\n",
    "\n",
    "# Perform random walk until there is small change in vector\n",
    "stat_dist_no_restart = []\n",
    "eps = 1e-5\n",
    "for vec in tqdm(vecs):\n",
    "    while True:\n",
    "        rw_vec_new = tr_mat @ vec\n",
    "        if np.linalg.norm(rw_vec_new - vec) < eps:\n",
    "            break\n",
    "        vec = rw_vec_new\n",
    "    stat_dist_no_restart.append(rw_vec_new)\n",
    "\n",
    "# See if the vectors are equal\n",
    "are_close = np.allclose(stat_dist_no_restart[0], stat_dist_no_restart[1]) and \\\n",
    "            np.allclose(stat_dist_no_restart[0], stat_dist_no_restart[2]) and \\\n",
    "            np.allclose(stat_dist_no_restart[1], stat_dist_no_restart[2])\n",
    "print('Are the vectors close? {}'.format(are_close))\n",
    "\n",
    "# Get cosine similarity between vectors\n",
    "cos_sim = []\n",
    "for i in range(len(stat_dist_no_restart)):\n",
    "    for j in range(i+1, len(stat_dist_no_restart)):\n",
    "        dot = np.dot(stat_dist_no_restart[i].T, stat_dist_no_restart[j])[0][0]\n",
    "        norm1 = np.linalg.norm(stat_dist_no_restart[i])\n",
    "        norm2 = np.linalg.norm(stat_dist_no_restart[j])\n",
    "        cos_sim.append(dot / (norm1 * norm2))\n",
    "print('Cosine similarity between vectors: {}'.format(cos_sim))\n",
    "\n",
    "# Get Pearson correlation between vectors\n",
    "pearson_corr = []\n",
    "for i in range(len(stat_dist_no_restart)):\n",
    "    for j in range(i+1, len(stat_dist_no_restart)):\n",
    "        pearson_corr.append(pearsonr(stat_dist_no_restart[i].flatten(), stat_dist_no_restart[j].flatten())[0])\n",
    "print('Pearson correlation between vectors: {}'.format(pearson_corr))\n",
    "\n",
    "# Get Spearman correlation between vectors\n",
    "spearman_corr = []\n",
    "for i in range(len(stat_dist_no_restart)):\n",
    "    for j in range(i+1, len(stat_dist_no_restart)):\n",
    "        spearman_corr.append(spearmanr(stat_dist_no_restart[i].flatten(), stat_dist_no_restart[j].flatten())[0])\n",
    "print('Spearman correlation between vectors: {}'.format(spearman_corr))"
   ]
  },
  {
   "cell_type": "markdown",
   "metadata": {},
   "source": [
    "**RW with Restart**\n",
    "\n",
    "Now, we do a similar procedure as before but this time there is a chance on every iteration that the walk restarts from the beginning of its walk."
   ]
  },
  {
   "cell_type": "code",
   "execution_count": 25,
   "metadata": {},
   "outputs": [],
   "source": [
    "# Assign the restart nodes\n",
    "N1 = int(edges_df['Node 1'].iloc[0])\n",
    "v_N1 = np.zeros((tr_mat.shape[0], 1))\n",
    "v_N1[N1] = 1\n",
    "\n",
    "N2 = int(edges_df['Node 2'].iloc[0])\n",
    "v_N2 = np.zeros((tr_mat.shape[0], 1))\n",
    "v_N2[N2] = 1"
   ]
  },
  {
   "cell_type": "markdown",
   "metadata": {},
   "source": [
    "Starting from an initial distribution, q0, we can find the stationary distribution when N1 and N2 are the restart set at different values of p"
   ]
  },
  {
   "cell_type": "code",
   "execution_count": 26,
   "metadata": {},
   "outputs": [],
   "source": [
    "# Make list of p\n",
    "p = [0.2, 0.5, 0.8]\n",
    "\n",
    "# Make random initial distribution\n",
    "q = np.zeros((tr_mat.shape[0], 1))\n",
    "q[0] = 1"
   ]
  },
  {
   "cell_type": "code",
   "execution_count": 27,
   "metadata": {},
   "outputs": [
    {
     "data": {
      "image/png": "[encoded data removed]",
      "text/plain": [
       "<Figure size 400x300 with 1 Axes>"
      ]
     },
     "metadata": {},
     "output_type": "display_data"
    },
    {
     "data": {
      "image/png": "[encoded data removed]",
      "text/plain": [
       "<Figure size 400x300 with 1 Axes>"
      ]
     },
     "metadata": {},
     "output_type": "display_data"
    }
   ],
   "source": [
    "import matplotlib.pyplot as plt\n",
    "\n",
    "for index, node in enumerate([v_N1, v_N2]):\n",
    "    eps = 1e-5\n",
    "    vec = q\n",
    "    stat_dist_restart = []\n",
    "\n",
    "    for p_i in p:\n",
    "        while True:\n",
    "            rw_vec_new = p_i * tr_mat @ vec + (1 - p_i) * node\n",
    "            if np.linalg.norm(rw_vec_new - vec) < eps:\n",
    "                break\n",
    "            vec = rw_vec_new\n",
    "        stat_dist_restart.append(rw_vec_new)\n",
    "\n",
    "    # Put stationary distributions into a dataframe\n",
    "    stat_dist_restart_df = pd.DataFrame(np.hstack(stat_dist_restart))\n",
    "    stat_dist_restart_df.insert(0, 'Node', nodes)\n",
    "    stat_dist_restart_df.columns = ['Node', 'p = 0.2', 'p = 0.5', 'p = 0.8']\n",
    "\n",
    "    # Save stationary distributions to csv\n",
    "    stat_dist_restart_df.to_csv(f'stationary/stat_dist_p_{index}.csv', index=False)\n",
    "\n",
    "    # Compare stationary distributions to restart node \n",
    "    # Get cosine similarity between stationary distributions and restart node\n",
    "    cos_sim = []\n",
    "    for i in range(len(stat_dist_restart)):\n",
    "        dot = np.dot(stat_dist_restart[i].T, node)\n",
    "        norm1 = np.linalg.norm(stat_dist_restart[i])\n",
    "        norm2 = np.linalg.norm(node)\n",
    "        cosine_similarity = dot / (norm1 * norm2)\n",
    "        cos_sim.append(cosine_similarity.item())\n",
    "\n",
    "    # Plot cosine similarity vs p\n",
    "    plt.figure(figsize=(4, 3))\n",
    "    plt.plot(p, cos_sim, '-o')\n",
    "    plt.xlabel('p')\n",
    "    plt.ylabel('Cosine Similarity')\n",
    "    plt.title('Cosine Similarity vs p')\n",
    "    plt.show()"
   ]
  },
  {
   "cell_type": "markdown",
   "metadata": {},
   "source": [
    "We can also observe what happens when a different initial distribution is picked but p is held fixed "
   ]
  },
  {
   "cell_type": "code",
   "execution_count": 28,
   "metadata": {},
   "outputs": [],
   "source": [
    "# Enforce constant p\n",
    "p_fixed = 0.2\n",
    "\n",
    "# Make 3 random initial distributions\n",
    "q1 = np.zeros((tr_mat.shape[0], 1))\n",
    "q2 = np.zeros((tr_mat.shape[0], 1))\n",
    "q3 = np.zeros((tr_mat.shape[0], 1))\n",
    "\n",
    "q1[0] = 1\n",
    "q2[1500] = 1\n",
    "q3[5000] = 1\n",
    "\n",
    "qs = [q1, q2, q3]"
   ]
  },
  {
   "cell_type": "code",
   "execution_count": 29,
   "metadata": {},
   "outputs": [
    {
     "data": {
      "image/png": "[encoded data removed]",
      "text/plain": [
       "<Figure size 400x300 with 1 Axes>"
      ]
     },
     "metadata": {},
     "output_type": "display_data"
    },
    {
     "data": {
      "image/png": "[encoded data removed]",
      "text/plain": [
       "<Figure size 400x300 with 1 Axes>"
      ]
     },
     "metadata": {},
     "output_type": "display_data"
    }
   ],
   "source": [
    "import matplotlib.pyplot as plt\n",
    "\n",
    "for index, node in enumerate([v_N1, v_N2]):\n",
    "    eps = 1e-5\n",
    "    stat_dist_restart = []\n",
    "\n",
    "    for q_i in qs:\n",
    "        vec = q_i\n",
    "        while True:\n",
    "            rw_vec_new = p_fixed * tr_mat @ vec + (1 - p_fixed) * node\n",
    "            if np.linalg.norm(rw_vec_new - vec) < eps:\n",
    "                break\n",
    "            vec = rw_vec_new\n",
    "        stat_dist_restart.append(rw_vec_new)\n",
    "\n",
    "    # Compare stationary distributions to restart node \n",
    "    # Get cosine similarity between stationary distributions and restart node\n",
    "    cos_sim = []\n",
    "    for i in range(len(stat_dist_restart)):\n",
    "        dot = np.dot(stat_dist_restart[i].T, node)\n",
    "        norm1 = np.linalg.norm(stat_dist_restart[i])\n",
    "        norm2 = np.linalg.norm(node)\n",
    "        cosine_similarity = dot / (norm1 * norm2)\n",
    "        cos_sim.append(cosine_similarity.item())\n",
    "    \n",
    "    # Plot cosine similarity vs p\n",
    "    plt.figure(figsize=(4, 3))\n",
    "    plt.plot(p, cos_sim, '-o')\n",
    "    plt.xlabel('p')\n",
    "    plt.ylabel('Cosine Similarity')\n",
    "    plt.title('Cosine Similarity vs p')\n",
    "    plt.ylim(0.98, 1.02)\n",
    "    plt.show()"
   ]
  },
  {
   "cell_type": "markdown",
   "metadata": {},
   "source": [
    "Last, we can analyze the benefits of restart. Are the stationary distributions generated using N1 and N2 the same as they were with no restart?"
   ]
  },
  {
   "cell_type": "code",
   "execution_count": 30,
   "metadata": {},
   "outputs": [],
   "source": [
    "# Enforce constant p\n",
    "p_fixed = 0.2\n",
    "\n",
    "# Enforce a random initial distribution\n",
    "q_fixed = np.zeros((tr_mat.shape[0], 1))\n",
    "q_fixed[0] = 1"
   ]
  },
  {
   "cell_type": "code",
   "execution_count": 31,
   "metadata": {},
   "outputs": [
    {
     "name": "stdout",
     "output_type": "stream",
     "text": [
      "Are the stationary distributions close? False\n",
      "Cosine similarity between stationary distributions: 0.024595834530471452\n",
      "Cosine similarity between stationary distribution 0 and restart node 1: 0.9982520705766188\n",
      "Cosine similarity between stationary distribution 1 and restart node 1: 0.010633973572923753\n",
      "Cosine similarity between stationary distribution 0 and restart node 2: 0.0109441593174117\n",
      "Cosine similarity between stationary distribution 1 and restart node 2: 0.9973709129921593\n"
     ]
    }
   ],
   "source": [
    "eps = 1e-5\n",
    "stat_dist_restart = []\n",
    "vec = q_fixed\n",
    "\n",
    "for index, node in enumerate([v_N1, v_N2]):\n",
    "    while True:\n",
    "        rw_vec_new = p_fixed * tr_mat @ vec + (1 - p_fixed) * node\n",
    "        if np.linalg.norm(rw_vec_new - vec) < eps:\n",
    "            break\n",
    "        vec = rw_vec_new\n",
    "    stat_dist_restart.append(rw_vec_new)\n",
    "\n",
    "# Check if stationary distributions are equal\n",
    "are_close = np.allclose(stat_dist_restart[0], stat_dist_restart[1])\n",
    "print('Are the stationary distributions close? {}'.format(are_close))\n",
    "\n",
    "# Get cosine similarity between stationary distributions\n",
    "dot = np.dot(stat_dist_restart[0].T, stat_dist_restart[1])\n",
    "norm1 = np.linalg.norm(stat_dist_restart[0])\n",
    "norm2 = np.linalg.norm(stat_dist_restart[1])\n",
    "cosine_similarity = dot / (norm1 * norm2)\n",
    "print('Cosine similarity between stationary distributions: {}'.format(cosine_similarity[0][0]))\n",
    "\n",
    "# Get cosine similarity between stationary distributions and restart node 1\n",
    "for i in range(2):\n",
    "    dot = np.dot(stat_dist_restart[i].T, v_N1)\n",
    "    norm1 = np.linalg.norm(stat_dist_restart[i])\n",
    "    norm2 = np.linalg.norm(v_N1)\n",
    "    cosine_similarity = dot / (norm1 * norm2)\n",
    "    print('Cosine similarity between stationary distribution {} and restart node 1: {}'.format(i, cosine_similarity[0][0]))\n",
    "\n",
    "# Get cosine similarity between stationary distributions and restart node 2\n",
    "for i in range(2):\n",
    "    dot = np.dot(stat_dist_restart[i].T, v_N2)\n",
    "    norm1 = np.linalg.norm(stat_dist_restart[i])\n",
    "    norm2 = np.linalg.norm(v_N2)\n",
    "    cosine_similarity = dot / (norm1 * norm2)\n",
    "    print('Cosine similarity between stationary distribution {} and restart node 2: {}'.format(i, cosine_similarity[0][0]))"
   ]
  },
  {
   "cell_type": "markdown",
   "metadata": {},
   "source": [
    "**Node2Vec**\n",
    "\n",
    "We now get embeddings from a Node2Vec implementation"
   ]
  },
  {
   "cell_type": "code",
   "execution_count": 32,
   "metadata": {},
   "outputs": [
    {
     "data": {
      "text/plain": [
       "\"import networkx as nx\\nimport node2vec\\n\\n# Create graph from adjacency matrix\\nG = nx.from_numpy_matrix(adj_mat)\\n\\n# Get ranges of p and q to try\\nnode_p = [0.5, 2, 4]\\nnode_q = [0.5, 2, 4]\\n\\n# Create list of node2vec models\\nnode2vec_models = []\\nfor p in node_p:\\n    for q in node_q:\\n        if p != q:\\n            walk = node2vec.Node2Vec(G, p=p, q=q, workers=10)\\n            model = walk.fit()\\n            node2vec_models.append(model)\\n\\n# Save node2vec models\\nfor index, model in enumerate(node2vec_models):\\n    model.wv.save_word2vec_format(f'node2vec/node2vec_model_{index}.bin')\""
      ]
     },
     "execution_count": 32,
     "metadata": {},
     "output_type": "execute_result"
    }
   ],
   "source": [
    "'''import networkx as nx\n",
    "import node2vec\n",
    "\n",
    "# Create graph from adjacency matrix\n",
    "G = nx.from_numpy_matrix(adj_mat)\n",
    "\n",
    "# Get ranges of p and q to try\n",
    "node_p = [0.5, 2, 4]\n",
    "node_q = [0.5, 2, 4]\n",
    "\n",
    "# Create list of node2vec models\n",
    "node2vec_models = []\n",
    "for p in node_p:\n",
    "    for q in node_q:\n",
    "        if p != q:\n",
    "            walk = node2vec.Node2Vec(G, p=p, q=q, workers=10)\n",
    "            model = walk.fit()\n",
    "            node2vec_models.append(model)\n",
    "\n",
    "# Save node2vec models\n",
    "for index, model in enumerate(node2vec_models):\n",
    "    model.wv.save_word2vec_format(f'node2vec/node2vec_model_{index}.bin')'''"
   ]
  },
  {
   "cell_type": "code",
   "execution_count": 33,
   "metadata": {},
   "outputs": [],
   "source": [
    "from gensim.models import Word2Vec\n",
    "\n",
    "# Load node2vec models\n",
    "depth_first_model = Word2Vec.load('node2vec/node2vec_model_0.bin')\n",
    "breadth_first_model = Word2Vec.load('node2vec/node2vec_model_5.bin')"
   ]
  },
  {
   "cell_type": "code",
   "execution_count": 34,
   "metadata": {},
   "outputs": [
    {
     "name": "stdout",
     "output_type": "stream",
     "text": [
      "Node 1\n",
      "Pearson: [0.33199239481025994]\n",
      "Spearman: [0.3318359732649697]\n",
      "Cosine Similarity: [0.3333711624145508]\n",
      "\n",
      "Node 2\n",
      "Pearson: [0.12389252669791845]\n",
      "Spearman: [0.1210744369163157]\n",
      "Cosine Similarity: [0.12708164751529694]\n"
     ]
    }
   ],
   "source": [
    "# Get depth-first embeddings for first two nodes\n",
    "N1_depth_e = depth_first_model.wv[N1]\n",
    "N2_depth_e = depth_first_model.wv[N2]\n",
    "\n",
    "# Get breadth-first embeddings for first two nodes\n",
    "N1_breadth_e = breadth_first_model.wv[N1]\n",
    "N2_breadth_e = breadth_first_model.wv[N2]\n",
    "\n",
    "n1_embeddings = [N1_depth_e, N1_breadth_e]\n",
    "n2_embeddings = [N2_depth_e, N2_breadth_e]\n",
    "\n",
    "# Get Pearsons\n",
    "n1_pearsons = []\n",
    "n2_pearsons = []\n",
    "for i in range(len(n1_embeddings)):\n",
    "    for j in range(i + 1, len(n1_embeddings)):\n",
    "        pearson = pearsonr(n1_embeddings[i], n1_embeddings[j])\n",
    "        n1_pearsons.append(pearson[0])\n",
    "        pearson = pearsonr(n2_embeddings[i], n2_embeddings[j])\n",
    "        n2_pearsons.append(pearson[0])\n",
    "\n",
    "# Get Spearmans\n",
    "n1_spearmans = []\n",
    "n2_spearmans = []\n",
    "for i in range(len(n1_embeddings)):\n",
    "    for j in range(i + 1, len(n1_embeddings)):\n",
    "        spearman = spearmanr(n1_embeddings[i], n1_embeddings[j])\n",
    "        n1_spearmans.append(spearman[0])\n",
    "        spearman = spearmanr(n2_embeddings[i], n2_embeddings[j])\n",
    "        n2_spearmans.append(spearman[0])\n",
    "\n",
    "# Get cosine similarities\n",
    "n1_cos_sim = []\n",
    "n2_cos_sim = []\n",
    "for i in range(len(n1_embeddings)):\n",
    "    for j in range(i + 1, len(n1_embeddings)):\n",
    "        dot = np.dot(n1_embeddings[i].T, n1_embeddings[j])\n",
    "        norm1 = np.linalg.norm(n1_embeddings[i])\n",
    "        norm2 = np.linalg.norm(n1_embeddings[j])\n",
    "        cosine_similarity = dot / (norm1 * norm2)\n",
    "        n1_cos_sim.append(cosine_similarity.item())\n",
    "        dot = np.dot(n2_embeddings[i].T, n2_embeddings[j])\n",
    "        norm1 = np.linalg.norm(n2_embeddings[i])\n",
    "        norm2 = np.linalg.norm(n2_embeddings[j])\n",
    "        cosine_similarity = dot / (norm1 * norm2)\n",
    "        n2_cos_sim.append(cosine_similarity.item())\n",
    "\n",
    "# Print results\n",
    "print('Node 1')\n",
    "print('Pearson: {}'.format(n1_pearsons))\n",
    "print('Spearman: {}'.format(n1_spearmans))\n",
    "print('Cosine Similarity: {}'.format(n1_cos_sim))\n",
    "\n",
    "print('\\nNode 2')\n",
    "print('Pearson: {}'.format(n2_pearsons))\n",
    "print('Spearman: {}'.format(n2_spearmans))\n",
    "print('Cosine Similarity: {}'.format(n2_cos_sim))"
   ]
  },
  {
   "cell_type": "markdown",
   "metadata": {},
   "source": [
    "We can graph the embeddings of N1 and N2 @ various values of p and q to see how these values make the embeddings more or less distinguished"
   ]
  },
  {
   "cell_type": "code",
   "execution_count": 35,
   "metadata": {},
   "outputs": [
    {
     "data": {
      "text/plain": [
       "\"# Define nodes and weights\\nnode1 = ['A', 'B', 'C', 'D', 'B']\\nnode2 = ['B', 'C', 'D', 'A', 'A']\\nweights = [1.0, 2.0, 3.0, 4.0, 5.0]\\n\\n# Create dictionary\\ndata = {'Node 1': node1, 'Node 2': node2, 'Weight': weights}\\n\\n# Convert to DataFrame\\ntest_df = pd.DataFrame(data)\\n\\nprint(test_df.head())\\n\\n# Get set of all nodes\\nnodes = set(test_df['Node 1'])\\nnodes = nodes.union(set(test_df['Node 2']))\\n\\n# Convert nodes to indices in edges_df\\nnodes_dict = dict(zip(nodes, range(len(nodes))))\\ntest_df['Node 1'] = test_df['Node 1'].map(nodes_dict)\\ntest_df['Node 2'] = test_df['Node 2'].map(nodes_dict)\\n\\nprint(test_df.head())\\n\\n# Initialize adjacency matrix\\ntest_adj = np.zeros((len(nodes), len(nodes)))\\n\\nprint(test_adj)\\n\\n# Fill adjacency matrix\\nfor i in range(len(test_df)):\\n    row = test_df.iloc[i]\\n    test_adj[int(row['Node 1']), int(row['Node 2'])] = row['Weight']\\n\\nprint(test_adj)\\n\\ntest_adj = process_symmetric_entries(test_adj)\\n\\nprint(test_adj)\\n\\n# normalize adjacency matrix by row\\ntest_adj = test_adj / test_adj.sum(axis=1, keepdims=True)\\n\\nprint(test_adj)\""
      ]
     },
     "execution_count": 35,
     "metadata": {},
     "output_type": "execute_result"
    }
   ],
   "source": [
    "''' Test code for adj matrix processing '''\n",
    "\n",
    "'''# Define nodes and weights\n",
    "node1 = ['A', 'B', 'C', 'D', 'B']\n",
    "node2 = ['B', 'C', 'D', 'A', 'A']\n",
    "weights = [1.0, 2.0, 3.0, 4.0, 5.0]\n",
    "\n",
    "# Create dictionary\n",
    "data = {'Node 1': node1, 'Node 2': node2, 'Weight': weights}\n",
    "\n",
    "# Convert to DataFrame\n",
    "test_df = pd.DataFrame(data)\n",
    "\n",
    "print(test_df.head())\n",
    "\n",
    "# Get set of all nodes\n",
    "nodes = set(test_df['Node 1'])\n",
    "nodes = nodes.union(set(test_df['Node 2']))\n",
    "\n",
    "# Convert nodes to indices in edges_df\n",
    "nodes_dict = dict(zip(nodes, range(len(nodes))))\n",
    "test_df['Node 1'] = test_df['Node 1'].map(nodes_dict)\n",
    "test_df['Node 2'] = test_df['Node 2'].map(nodes_dict)\n",
    "\n",
    "print(test_df.head())\n",
    "\n",
    "# Initialize adjacency matrix\n",
    "test_adj = np.zeros((len(nodes), len(nodes)))\n",
    "\n",
    "print(test_adj)\n",
    "\n",
    "# Fill adjacency matrix\n",
    "for i in range(len(test_df)):\n",
    "    row = test_df.iloc[i]\n",
    "    test_adj[int(row['Node 1']), int(row['Node 2'])] = row['Weight']\n",
    "\n",
    "print(test_adj)\n",
    "\n",
    "test_adj = process_symmetric_entries(test_adj)\n",
    "\n",
    "print(test_adj)\n",
    "\n",
    "# normalize adjacency matrix by row\n",
    "test_adj = test_adj / test_adj.sum(axis=1, keepdims=True)\n",
    "\n",
    "print(test_adj)'''"
   ]
  }
 ],
 "metadata": {
  "kernelspec": {
   "display_name": "venv",
   "language": "python",
   "name": "python3"
  },
  "language_info": {
   "codemirror_mode": {
    "name": "ipython",
    "version": 3
   },
   "file_extension": ".py",
   "mimetype": "text/x-python",
   "name": "python",
   "nbconvert_exporter": "python",
   "pygments_lexer": "ipython3",
   "version": "3.11.4"
  }
 },
 "nbformat": 4,
 "nbformat_minor": 2
}
